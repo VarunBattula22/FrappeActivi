{
 "cells": [
  {
   "cell_type": "code",
   "execution_count": 1,
   "id": "c3b5b549-a72b-49f1-817f-48e993d7b61d",
   "metadata": {},
   "outputs": [
    {
     "name": "stdout",
     "output_type": "stream",
     "text": [
      "Defaulting to user installation because normal site-packages is not writeable\n",
      "Requirement already satisfied: scikit-learn==1.5.1 in c:\\users\\lohith\\appdata\\roaming\\python\\python312\\site-packages (1.5.1)\n",
      "Requirement already satisfied: numpy>=1.19.5 in c:\\programdata\\anaconda3\\lib\\site-packages (from scikit-learn==1.5.1) (1.26.4)\n",
      "Requirement already satisfied: scipy>=1.6.0 in c:\\programdata\\anaconda3\\lib\\site-packages (from scikit-learn==1.5.1) (1.13.1)\n",
      "Requirement already satisfied: joblib>=1.2.0 in c:\\programdata\\anaconda3\\lib\\site-packages (from scikit-learn==1.5.1) (1.4.2)\n",
      "Requirement already satisfied: threadpoolctl>=3.1.0 in c:\\users\\lohith\\appdata\\roaming\\python\\python312\\site-packages (from scikit-learn==1.5.1) (3.5.0)\n",
      "1.5.1\n"
     ]
    }
   ],
   "source": [
    "\n",
    "!pip install scikit-learn==1.5.1\n",
    "import sklearn\n",
    "print(sklearn.__version__)  \n",
    "\n"
   ]
  },
  {
   "cell_type": "code",
   "execution_count": 2,
   "id": "476b6b8b-5746-4250-b098-4389bd77a983",
   "metadata": {},
   "outputs": [],
   "source": [
    "#Importing libraries\n",
    "import pandas as pd\n",
    "import numpy as np\n",
    "import matplotlib.pyplot as plt\n",
    "import seaborn as sns\n",
    "%matplotlib inline\n",
    "\n",
    "from sklearn.preprocessing import LabelEncoder\n",
    "from sklearn.model_selection import train_test_split\n",
    "from sklearn.preprocessing import StandardScaler\n",
    "\n",
    "from sklearn.neighbors import KNeighborsClassifier\n",
    "from sklearn.ensemble import RandomForestClassifier\n",
    "from sklearn.tree import DecisionTreeClassifier\n",
    "from xgboost import XGBClassifier\n",
    "from sklearn.ensemble import BaggingClassifier\n",
    "from sklearn.ensemble import AdaBoostClassifier\n",
    "from sklearn.metrics import precision_score\n",
    "from sklearn.metrics import recall_score\n",
    "from sklearn.metrics import accuracy_score\n",
    "from sklearn.metrics import f1_score\n",
    "\n",
    "import pickle\n",
    "from sklearn.model_selection import RandomizedSearchCV\n",
    "\n"
   ]
  },
  {
   "cell_type": "code",
   "execution_count": 3,
   "id": "c2c7883e-00c7-4972-95d0-77c28878f29b",
   "metadata": {},
   "outputs": [],
   "source": [
    "df=pd.read_csv(r'frappe.csv',sep='\\t')"
   ]
  },
  {
   "cell_type": "code",
   "execution_count": 4,
   "id": "dd6893de-268b-4618-91bc-37b53ae88fe2",
   "metadata": {},
   "outputs": [
    {
     "data": {
      "text/plain": [
       "Index(['user', 'item', 'cnt', 'daytime', 'weekday', 'isweekend', 'homework',\n",
       "       'cost', 'weather', 'country', 'city'],\n",
       "      dtype='object')"
      ]
     },
     "execution_count": 4,
     "metadata": {},
     "output_type": "execute_result"
    }
   ],
   "source": [
    "df.columns"
   ]
  },
  {
   "cell_type": "code",
   "execution_count": 5,
   "id": "3d0a28b3-5bdd-4b4f-b02c-93f80fba695c",
   "metadata": {},
   "outputs": [
    {
     "data": {
      "text/html": [
       "<div>\n",
       "<style scoped>\n",
       "    .dataframe tbody tr th:only-of-type {\n",
       "        vertical-align: middle;\n",
       "    }\n",
       "\n",
       "    .dataframe tbody tr th {\n",
       "        vertical-align: top;\n",
       "    }\n",
       "\n",
       "    .dataframe thead th {\n",
       "        text-align: right;\n",
       "    }\n",
       "</style>\n",
       "<table border=\"1\" class=\"dataframe\">\n",
       "  <thead>\n",
       "    <tr style=\"text-align: right;\">\n",
       "      <th></th>\n",
       "      <th>user</th>\n",
       "      <th>item</th>\n",
       "      <th>cnt</th>\n",
       "      <th>daytime</th>\n",
       "      <th>weekday</th>\n",
       "      <th>isweekend</th>\n",
       "      <th>homework</th>\n",
       "      <th>cost</th>\n",
       "      <th>weather</th>\n",
       "      <th>country</th>\n",
       "      <th>city</th>\n",
       "    </tr>\n",
       "  </thead>\n",
       "  <tbody>\n",
       "    <tr>\n",
       "      <th>0</th>\n",
       "      <td>0</td>\n",
       "      <td>0</td>\n",
       "      <td>1</td>\n",
       "      <td>morning</td>\n",
       "      <td>sunday</td>\n",
       "      <td>weekend</td>\n",
       "      <td>unknown</td>\n",
       "      <td>free</td>\n",
       "      <td>sunny</td>\n",
       "      <td>United States</td>\n",
       "      <td>0</td>\n",
       "    </tr>\n",
       "    <tr>\n",
       "      <th>1</th>\n",
       "      <td>1</td>\n",
       "      <td>1</td>\n",
       "      <td>7</td>\n",
       "      <td>afternoon</td>\n",
       "      <td>saturday</td>\n",
       "      <td>weekend</td>\n",
       "      <td>unknown</td>\n",
       "      <td>free</td>\n",
       "      <td>cloudy</td>\n",
       "      <td>Spain</td>\n",
       "      <td>0</td>\n",
       "    </tr>\n",
       "    <tr>\n",
       "      <th>2</th>\n",
       "      <td>2</td>\n",
       "      <td>2</td>\n",
       "      <td>6</td>\n",
       "      <td>evening</td>\n",
       "      <td>monday</td>\n",
       "      <td>workday</td>\n",
       "      <td>unknown</td>\n",
       "      <td>free</td>\n",
       "      <td>cloudy</td>\n",
       "      <td>Spain</td>\n",
       "      <td>369</td>\n",
       "    </tr>\n",
       "    <tr>\n",
       "      <th>3</th>\n",
       "      <td>3</td>\n",
       "      <td>3</td>\n",
       "      <td>1</td>\n",
       "      <td>sunset</td>\n",
       "      <td>thursday</td>\n",
       "      <td>workday</td>\n",
       "      <td>unknown</td>\n",
       "      <td>free</td>\n",
       "      <td>unknown</td>\n",
       "      <td>United States</td>\n",
       "      <td>1028</td>\n",
       "    </tr>\n",
       "    <tr>\n",
       "      <th>4</th>\n",
       "      <td>4</td>\n",
       "      <td>4</td>\n",
       "      <td>428</td>\n",
       "      <td>night</td>\n",
       "      <td>thursday</td>\n",
       "      <td>workday</td>\n",
       "      <td>home</td>\n",
       "      <td>free</td>\n",
       "      <td>sunny</td>\n",
       "      <td>Switzerland</td>\n",
       "      <td>147</td>\n",
       "    </tr>\n",
       "  </tbody>\n",
       "</table>\n",
       "</div>"
      ],
      "text/plain": [
       "   user  item  cnt    daytime   weekday isweekend homework  cost  weather  \\\n",
       "0     0     0    1    morning    sunday   weekend  unknown  free    sunny   \n",
       "1     1     1    7  afternoon  saturday   weekend  unknown  free   cloudy   \n",
       "2     2     2    6    evening    monday   workday  unknown  free   cloudy   \n",
       "3     3     3    1     sunset  thursday   workday  unknown  free  unknown   \n",
       "4     4     4  428      night  thursday   workday     home  free    sunny   \n",
       "\n",
       "         country  city  \n",
       "0  United States     0  \n",
       "1          Spain     0  \n",
       "2          Spain   369  \n",
       "3  United States  1028  \n",
       "4    Switzerland   147  "
      ]
     },
     "execution_count": 5,
     "metadata": {},
     "output_type": "execute_result"
    }
   ],
   "source": [
    "df.head()"
   ]
  },
  {
   "cell_type": "code",
   "execution_count": 6,
   "id": "b5d67b77-5cad-4ce6-9682-b96b831f87f5",
   "metadata": {},
   "outputs": [],
   "source": [
    "meta_app=pd.read_csv('meta.csv',sep='\\t')\n"
   ]
  },
  {
   "cell_type": "code",
   "execution_count": 7,
   "id": "8ec328c8-be06-4ebc-8e2e-6d905ade4846",
   "metadata": {},
   "outputs": [
    {
     "data": {
      "text/html": [
       "<div>\n",
       "<style scoped>\n",
       "    .dataframe tbody tr th:only-of-type {\n",
       "        vertical-align: middle;\n",
       "    }\n",
       "\n",
       "    .dataframe tbody tr th {\n",
       "        vertical-align: top;\n",
       "    }\n",
       "\n",
       "    .dataframe thead th {\n",
       "        text-align: right;\n",
       "    }\n",
       "</style>\n",
       "<table border=\"1\" class=\"dataframe\">\n",
       "  <thead>\n",
       "    <tr style=\"text-align: right;\">\n",
       "      <th></th>\n",
       "      <th>item</th>\n",
       "      <th>package</th>\n",
       "      <th>category</th>\n",
       "      <th>downloads</th>\n",
       "      <th>developer</th>\n",
       "      <th>icon</th>\n",
       "      <th>language</th>\n",
       "      <th>description</th>\n",
       "      <th>name</th>\n",
       "      <th>price</th>\n",
       "      <th>rating</th>\n",
       "      <th>short desc</th>\n",
       "    </tr>\n",
       "  </thead>\n",
       "  <tbody>\n",
       "    <tr>\n",
       "      <th>0</th>\n",
       "      <td>0</td>\n",
       "      <td>com.anydo</td>\n",
       "      <td>Productivity</td>\n",
       "      <td>1,000,000 - 5,000,000</td>\n",
       "      <td>Any.DO</td>\n",
       "      <td>http://d2lh3rxs7crswz.cloudfront.net/com.anydo...</td>\n",
       "      <td>en</td>\n",
       "      <td>Meet Any.DO, the best way to-do To-do's on And...</td>\n",
       "      <td>Any.DO To-do &amp; Tasks List</td>\n",
       "      <td>Free</td>\n",
       "      <td>4.5</td>\n",
       "      <td>Any.DO helps you remember everything you have ...</td>\n",
       "    </tr>\n",
       "    <tr>\n",
       "      <th>1</th>\n",
       "      <td>1</td>\n",
       "      <td>com.yahoo.mobile.client.android.yahoo</td>\n",
       "      <td>News &amp; Magazines</td>\n",
       "      <td>1,000,000 - 5,000,000</td>\n",
       "      <td>Yahoo! Inc.</td>\n",
       "      <td>http://d2lh3rxs7crswz.cloudfront.net/com.yahoo...</td>\n",
       "      <td>en</td>\n",
       "      <td>With Yahoo! for Android, you’ll stay connected...</td>\n",
       "      <td>Yahoo!</td>\n",
       "      <td>Free</td>\n",
       "      <td>4.2</td>\n",
       "      <td>With Yahoo! for Android, you’ll stay connected...</td>\n",
       "    </tr>\n",
       "    <tr>\n",
       "      <th>2</th>\n",
       "      <td>2</td>\n",
       "      <td>com.compasspro</td>\n",
       "      <td>Tools</td>\n",
       "      <td>1,000,000 - 5,000,000</td>\n",
       "      <td>Mobile Essentials</td>\n",
       "      <td>http://d2lh3rxs7crswz.cloudfront.net/com.compa...</td>\n",
       "      <td>en</td>\n",
       "      <td>Professional Compass for Android. Simple and p...</td>\n",
       "      <td>Compass PRO</td>\n",
       "      <td>Free</td>\n",
       "      <td>4.1</td>\n",
       "      <td>Professional Compass for Android. Simple and p...</td>\n",
       "    </tr>\n",
       "    <tr>\n",
       "      <th>3</th>\n",
       "      <td>3</td>\n",
       "      <td>com.instagram.android</td>\n",
       "      <td>Social</td>\n",
       "      <td>50,000,000 - 100,000,000</td>\n",
       "      <td>Instagram</td>\n",
       "      <td>http://d2lh3rxs7crswz.cloudfront.net/com.insta...</td>\n",
       "      <td>en</td>\n",
       "      <td>Instagram – A beautiful way to share your worl...</td>\n",
       "      <td>Instagram</td>\n",
       "      <td>Free</td>\n",
       "      <td>4.6</td>\n",
       "      <td>Instagram – A beautiful way to share your worl...</td>\n",
       "    </tr>\n",
       "    <tr>\n",
       "      <th>4</th>\n",
       "      <td>4</td>\n",
       "      <td>com.shoppinglist</td>\n",
       "      <td>Shopping</td>\n",
       "      <td>10,000 - 50,000</td>\n",
       "      <td>Kiwi3</td>\n",
       "      <td>http://d2lh3rxs7crswz.cloudfront.net/com.shopp...</td>\n",
       "      <td>en</td>\n",
       "      <td>Shopping List is the most easy way to organize...</td>\n",
       "      <td>Shopping List</td>\n",
       "      <td>Free</td>\n",
       "      <td>4.5</td>\n",
       "      <td>The most easy Shopping List. In English, for f...</td>\n",
       "    </tr>\n",
       "  </tbody>\n",
       "</table>\n",
       "</div>"
      ],
      "text/plain": [
       "   item                                package          category  \\\n",
       "0     0                              com.anydo      Productivity   \n",
       "1     1  com.yahoo.mobile.client.android.yahoo  News & Magazines   \n",
       "2     2                         com.compasspro             Tools   \n",
       "3     3                  com.instagram.android            Social   \n",
       "4     4                       com.shoppinglist          Shopping   \n",
       "\n",
       "                  downloads          developer  \\\n",
       "0     1,000,000 - 5,000,000             Any.DO   \n",
       "1     1,000,000 - 5,000,000        Yahoo! Inc.   \n",
       "2     1,000,000 - 5,000,000  Mobile Essentials   \n",
       "3  50,000,000 - 100,000,000          Instagram   \n",
       "4           10,000 - 50,000              Kiwi3   \n",
       "\n",
       "                                                icon language  \\\n",
       "0  http://d2lh3rxs7crswz.cloudfront.net/com.anydo...       en   \n",
       "1  http://d2lh3rxs7crswz.cloudfront.net/com.yahoo...       en   \n",
       "2  http://d2lh3rxs7crswz.cloudfront.net/com.compa...       en   \n",
       "3  http://d2lh3rxs7crswz.cloudfront.net/com.insta...       en   \n",
       "4  http://d2lh3rxs7crswz.cloudfront.net/com.shopp...       en   \n",
       "\n",
       "                                         description  \\\n",
       "0  Meet Any.DO, the best way to-do To-do's on And...   \n",
       "1  With Yahoo! for Android, you’ll stay connected...   \n",
       "2  Professional Compass for Android. Simple and p...   \n",
       "3  Instagram – A beautiful way to share your worl...   \n",
       "4  Shopping List is the most easy way to organize...   \n",
       "\n",
       "                        name price rating  \\\n",
       "0  Any.DO To-do & Tasks List  Free    4.5   \n",
       "1                     Yahoo!  Free    4.2   \n",
       "2                Compass PRO  Free    4.1   \n",
       "3                  Instagram  Free    4.6   \n",
       "4              Shopping List  Free    4.5   \n",
       "\n",
       "                                          short desc  \n",
       "0  Any.DO helps you remember everything you have ...  \n",
       "1  With Yahoo! for Android, you’ll stay connected...  \n",
       "2  Professional Compass for Android. Simple and p...  \n",
       "3  Instagram – A beautiful way to share your worl...  \n",
       "4  The most easy Shopping List. In English, for f...  "
      ]
     },
     "execution_count": 7,
     "metadata": {},
     "output_type": "execute_result"
    }
   ],
   "source": [
    "meta_app.head()"
   ]
  },
  {
   "cell_type": "code",
   "execution_count": 8,
   "id": "f2f51ad5-2ebc-427f-a422-da385fecc726",
   "metadata": {},
   "outputs": [
    {
     "name": "stdout",
     "output_type": "stream",
     "text": [
      "                               name  item\n",
      "0         Any.DO To-do & Tasks List     0\n",
      "1                            Yahoo!     1\n",
      "2                       Compass PRO     2\n",
      "3                         Instagram     3\n",
      "4                     Shopping List     4\n",
      "...                             ...   ...\n",
      "4077           Monster Galaxy Exile  4077\n",
      "4078                Legends of Yore  4078\n",
      "4079     Talking Jumpster from Mars  4079\n",
      "4080  Extensive Notes Pro - Notepad  4080\n",
      "4081            Android Pro Widgets  4081\n",
      "\n",
      "[4082 rows x 2 columns]\n"
     ]
    }
   ],
   "source": [
    "meta_app=meta_app[['name','item']]\n",
    "\n",
    "print(meta_app)"
   ]
  },
  {
   "cell_type": "code",
   "execution_count": 9,
   "id": "4ff44187-9128-4fdd-be2a-38569581ac94",
   "metadata": {},
   "outputs": [
    {
     "name": "stdout",
     "output_type": "stream",
     "text": [
      "Index(['user', 'item', 'cnt', 'daytime', 'weekday', 'isweekend', 'homework',\n",
      "       'cost', 'weather', 'country', 'city'],\n",
      "      dtype='object')\n",
      "Index(['name', 'item'], dtype='object')\n"
     ]
    }
   ],
   "source": [
    "print(df.columns)\n",
    "print(meta_app.columns)"
   ]
  },
  {
   "cell_type": "code",
   "execution_count": 10,
   "id": "280591f8-4c42-49f9-8112-06185e11c7e5",
   "metadata": {},
   "outputs": [
    {
     "data": {
      "text/html": [
       "<div>\n",
       "<style scoped>\n",
       "    .dataframe tbody tr th:only-of-type {\n",
       "        vertical-align: middle;\n",
       "    }\n",
       "\n",
       "    .dataframe tbody tr th {\n",
       "        vertical-align: top;\n",
       "    }\n",
       "\n",
       "    .dataframe thead th {\n",
       "        text-align: right;\n",
       "    }\n",
       "</style>\n",
       "<table border=\"1\" class=\"dataframe\">\n",
       "  <thead>\n",
       "    <tr style=\"text-align: right;\">\n",
       "      <th></th>\n",
       "      <th>user</th>\n",
       "      <th>item</th>\n",
       "      <th>cnt</th>\n",
       "      <th>daytime</th>\n",
       "      <th>weekday</th>\n",
       "      <th>isweekend</th>\n",
       "      <th>homework</th>\n",
       "      <th>cost</th>\n",
       "      <th>weather</th>\n",
       "      <th>country</th>\n",
       "      <th>city</th>\n",
       "      <th>name</th>\n",
       "    </tr>\n",
       "  </thead>\n",
       "  <tbody>\n",
       "    <tr>\n",
       "      <th>0</th>\n",
       "      <td>0</td>\n",
       "      <td>0</td>\n",
       "      <td>1</td>\n",
       "      <td>morning</td>\n",
       "      <td>sunday</td>\n",
       "      <td>weekend</td>\n",
       "      <td>unknown</td>\n",
       "      <td>free</td>\n",
       "      <td>sunny</td>\n",
       "      <td>United States</td>\n",
       "      <td>0</td>\n",
       "      <td>Any.DO To-do &amp; Tasks List</td>\n",
       "    </tr>\n",
       "    <tr>\n",
       "      <th>1</th>\n",
       "      <td>1</td>\n",
       "      <td>1</td>\n",
       "      <td>7</td>\n",
       "      <td>afternoon</td>\n",
       "      <td>saturday</td>\n",
       "      <td>weekend</td>\n",
       "      <td>unknown</td>\n",
       "      <td>free</td>\n",
       "      <td>cloudy</td>\n",
       "      <td>Spain</td>\n",
       "      <td>0</td>\n",
       "      <td>Yahoo!</td>\n",
       "    </tr>\n",
       "    <tr>\n",
       "      <th>2</th>\n",
       "      <td>2</td>\n",
       "      <td>2</td>\n",
       "      <td>6</td>\n",
       "      <td>evening</td>\n",
       "      <td>monday</td>\n",
       "      <td>workday</td>\n",
       "      <td>unknown</td>\n",
       "      <td>free</td>\n",
       "      <td>cloudy</td>\n",
       "      <td>Spain</td>\n",
       "      <td>369</td>\n",
       "      <td>Compass PRO</td>\n",
       "    </tr>\n",
       "    <tr>\n",
       "      <th>3</th>\n",
       "      <td>3</td>\n",
       "      <td>3</td>\n",
       "      <td>1</td>\n",
       "      <td>sunset</td>\n",
       "      <td>thursday</td>\n",
       "      <td>workday</td>\n",
       "      <td>unknown</td>\n",
       "      <td>free</td>\n",
       "      <td>unknown</td>\n",
       "      <td>United States</td>\n",
       "      <td>1028</td>\n",
       "      <td>Instagram</td>\n",
       "    </tr>\n",
       "    <tr>\n",
       "      <th>4</th>\n",
       "      <td>4</td>\n",
       "      <td>4</td>\n",
       "      <td>428</td>\n",
       "      <td>night</td>\n",
       "      <td>thursday</td>\n",
       "      <td>workday</td>\n",
       "      <td>home</td>\n",
       "      <td>free</td>\n",
       "      <td>sunny</td>\n",
       "      <td>Switzerland</td>\n",
       "      <td>147</td>\n",
       "      <td>Shopping List</td>\n",
       "    </tr>\n",
       "  </tbody>\n",
       "</table>\n",
       "</div>"
      ],
      "text/plain": [
       "   user  item  cnt    daytime   weekday isweekend homework  cost  weather  \\\n",
       "0     0     0    1    morning    sunday   weekend  unknown  free    sunny   \n",
       "1     1     1    7  afternoon  saturday   weekend  unknown  free   cloudy   \n",
       "2     2     2    6    evening    monday   workday  unknown  free   cloudy   \n",
       "3     3     3    1     sunset  thursday   workday  unknown  free  unknown   \n",
       "4     4     4  428      night  thursday   workday     home  free    sunny   \n",
       "\n",
       "         country  city                       name  \n",
       "0  United States     0  Any.DO To-do & Tasks List  \n",
       "1          Spain     0                     Yahoo!  \n",
       "2          Spain   369                Compass PRO  \n",
       "3  United States  1028                  Instagram  \n",
       "4    Switzerland   147              Shopping List  "
      ]
     },
     "execution_count": 10,
     "metadata": {},
     "output_type": "execute_result"
    }
   ],
   "source": [
    "df=df.merge(meta_app,on= 'item')\n",
    "\n",
    "df.head()"
   ]
  },
  {
   "cell_type": "code",
   "execution_count": 11,
   "id": "24e41365-b868-48f9-9fb3-ce6c31a65f1b",
   "metadata": {},
   "outputs": [
    {
     "data": {
      "text/plain": [
       "(96203, 12)"
      ]
     },
     "execution_count": 11,
     "metadata": {},
     "output_type": "execute_result"
    }
   ],
   "source": [
    "df.shape\n"
   ]
  },
  {
   "cell_type": "code",
   "execution_count": 12,
   "id": "4b88fd2f-4a99-496d-9a2e-e9573d8f8501",
   "metadata": {},
   "outputs": [
    {
     "name": "stdout",
     "output_type": "stream",
     "text": [
      "<class 'pandas.core.frame.DataFrame'>\n",
      "RangeIndex: 96203 entries, 0 to 96202\n",
      "Data columns (total 12 columns):\n",
      " #   Column     Non-Null Count  Dtype \n",
      "---  ------     --------------  ----- \n",
      " 0   user       96203 non-null  int64 \n",
      " 1   item       96203 non-null  int64 \n",
      " 2   cnt        96203 non-null  int64 \n",
      " 3   daytime    96203 non-null  object\n",
      " 4   weekday    96203 non-null  object\n",
      " 5   isweekend  96203 non-null  object\n",
      " 6   homework   96203 non-null  object\n",
      " 7   cost       96203 non-null  object\n",
      " 8   weather    96203 non-null  object\n",
      " 9   country    96203 non-null  object\n",
      " 10  city       96203 non-null  int64 \n",
      " 11  name       96203 non-null  object\n",
      "dtypes: int64(4), object(8)\n",
      "memory usage: 8.8+ MB\n"
     ]
    }
   ],
   "source": [
    "df.info()"
   ]
  },
  {
   "cell_type": "code",
   "execution_count": 13,
   "id": "38c8b333-f8be-41da-9311-571b5bf6708f",
   "metadata": {},
   "outputs": [
    {
     "data": {
      "text/plain": [
       "0"
      ]
     },
     "execution_count": 13,
     "metadata": {},
     "output_type": "execute_result"
    }
   ],
   "source": [
    "df.duplicated().sum()"
   ]
  },
  {
   "cell_type": "code",
   "execution_count": 14,
   "id": "cafb4d9b-6626-4c6b-8326-2ae3f1b730c8",
   "metadata": {},
   "outputs": [
    {
     "data": {
      "text/plain": [
       "user         0\n",
       "item         0\n",
       "cnt          0\n",
       "daytime      0\n",
       "weekday      0\n",
       "isweekend    0\n",
       "homework     0\n",
       "cost         0\n",
       "weather      0\n",
       "country      0\n",
       "city         0\n",
       "name         0\n",
       "dtype: int64"
      ]
     },
     "execution_count": 14,
     "metadata": {},
     "output_type": "execute_result"
    }
   ],
   "source": [
    "df.isna().sum()"
   ]
  },
  {
   "cell_type": "code",
   "execution_count": 15,
   "id": "d954409f-aea4-44e1-b2e0-e5c3b9905f40",
   "metadata": {},
   "outputs": [],
   "source": [
    "dt_encoder=LabelEncoder()\n",
    "\n",
    "dt_encoder.fit(df['daytime'])\n",
    "\n",
    "df['daytime']=dt_encoder.transform(df['daytime'])\n",
    "\n",
    "wd_encoder=LabelEncoder()\n",
    "\n",
    "wd_encoder.fit(df['weekday'])\n",
    "\n",
    "df['weekday']=wd_encoder.transform(df['weekday'])\n",
    "\n",
    "wknd_encoder=LabelEncoder()\n",
    "\n",
    "wknd_encoder.fit(df['isweekend'])\n",
    "\n",
    "df['isweekend']=wknd_encoder.transform(df['isweekend'])\n",
    "\n",
    "hw_encoder=LabelEncoder()\n",
    "\n",
    "hw_encoder.fit(df['homework'])\n",
    "\n",
    "df['homework']=hw_encoder.transform(df['homework'])\n",
    "\n",
    "c_encoder=LabelEncoder()\n",
    "\n",
    "c_encoder.fit(df['cost'])\n",
    "\n",
    "df['cost']=c_encoder.transform(df['cost'])\n",
    "\n",
    "w_encoder=LabelEncoder()\n",
    "\n",
    "w_encoder.fit(df['weather'])\n",
    "\n",
    "df['weather']=w_encoder.transform(df['weather'])\n",
    "\n",
    "n_encoder=LabelEncoder()\n",
    "\n",
    "n_encoder.fit(df['name'])\n",
    "\n",
    "df['name']=n_encoder.transform(df['name'])"
   ]
  },
  {
   "cell_type": "code",
   "execution_count": 16,
   "id": "81545cce-b80d-4cf1-978e-19859270fae5",
   "metadata": {},
   "outputs": [
    {
     "name": "stdout",
     "output_type": "stream",
     "text": [
      "<class 'pandas.core.frame.DataFrame'>\n",
      "RangeIndex: 96203 entries, 0 to 96202\n",
      "Data columns (total 12 columns):\n",
      " #   Column     Non-Null Count  Dtype \n",
      "---  ------     --------------  ----- \n",
      " 0   user       96203 non-null  int64 \n",
      " 1   item       96203 non-null  int64 \n",
      " 2   cnt        96203 non-null  int64 \n",
      " 3   daytime    96203 non-null  int32 \n",
      " 4   weekday    96203 non-null  int32 \n",
      " 5   isweekend  96203 non-null  int32 \n",
      " 6   homework   96203 non-null  int32 \n",
      " 7   cost       96203 non-null  int32 \n",
      " 8   weather    96203 non-null  int32 \n",
      " 9   country    96203 non-null  object\n",
      " 10  city       96203 non-null  int64 \n",
      " 11  name       96203 non-null  int32 \n",
      "dtypes: int32(7), int64(4), object(1)\n",
      "memory usage: 6.2+ MB\n"
     ]
    }
   ],
   "source": [
    "df.info()"
   ]
  },
  {
   "cell_type": "code",
   "execution_count": 17,
   "id": "49143a74-a00c-4d83-97e9-f3036b4240a0",
   "metadata": {},
   "outputs": [
    {
     "data": {
      "text/html": [
       "<div>\n",
       "<style scoped>\n",
       "    .dataframe tbody tr th:only-of-type {\n",
       "        vertical-align: middle;\n",
       "    }\n",
       "\n",
       "    .dataframe tbody tr th {\n",
       "        vertical-align: top;\n",
       "    }\n",
       "\n",
       "    .dataframe thead th {\n",
       "        text-align: right;\n",
       "    }\n",
       "</style>\n",
       "<table border=\"1\" class=\"dataframe\">\n",
       "  <thead>\n",
       "    <tr style=\"text-align: right;\">\n",
       "      <th></th>\n",
       "      <th>user</th>\n",
       "      <th>item</th>\n",
       "      <th>cnt</th>\n",
       "      <th>daytime</th>\n",
       "      <th>weekday</th>\n",
       "      <th>isweekend</th>\n",
       "      <th>homework</th>\n",
       "      <th>cost</th>\n",
       "      <th>weather</th>\n",
       "      <th>city</th>\n",
       "      <th>name</th>\n",
       "    </tr>\n",
       "  </thead>\n",
       "  <tbody>\n",
       "    <tr>\n",
       "      <th>count</th>\n",
       "      <td>96203.000000</td>\n",
       "      <td>96203.000000</td>\n",
       "      <td>96203.000000</td>\n",
       "      <td>96203.000000</td>\n",
       "      <td>96203.000000</td>\n",
       "      <td>96203.000000</td>\n",
       "      <td>96203.000000</td>\n",
       "      <td>96203.000000</td>\n",
       "      <td>96203.000000</td>\n",
       "      <td>96203.000000</td>\n",
       "      <td>96203.000000</td>\n",
       "    </tr>\n",
       "    <tr>\n",
       "      <th>mean</th>\n",
       "      <td>189.646944</td>\n",
       "      <td>386.754207</td>\n",
       "      <td>81.330894</td>\n",
       "      <td>2.165317</td>\n",
       "      <td>2.885627</td>\n",
       "      <td>0.659792</td>\n",
       "      <td>0.885565</td>\n",
       "      <td>0.050872</td>\n",
       "      <td>3.432835</td>\n",
       "      <td>333.966176</td>\n",
       "      <td>1800.068990</td>\n",
       "    </tr>\n",
       "    <tr>\n",
       "      <th>std</th>\n",
       "      <td>156.458370</td>\n",
       "      <td>683.779627</td>\n",
       "      <td>395.414980</td>\n",
       "      <td>1.825046</td>\n",
       "      <td>2.009485</td>\n",
       "      <td>0.473781</td>\n",
       "      <td>0.447594</td>\n",
       "      <td>0.219737</td>\n",
       "      <td>3.380435</td>\n",
       "      <td>359.977130</td>\n",
       "      <td>1041.000073</td>\n",
       "    </tr>\n",
       "    <tr>\n",
       "      <th>min</th>\n",
       "      <td>0.000000</td>\n",
       "      <td>0.000000</td>\n",
       "      <td>1.000000</td>\n",
       "      <td>0.000000</td>\n",
       "      <td>0.000000</td>\n",
       "      <td>0.000000</td>\n",
       "      <td>0.000000</td>\n",
       "      <td>0.000000</td>\n",
       "      <td>0.000000</td>\n",
       "      <td>0.000000</td>\n",
       "      <td>0.000000</td>\n",
       "    </tr>\n",
       "    <tr>\n",
       "      <th>25%</th>\n",
       "      <td>74.000000</td>\n",
       "      <td>21.000000</td>\n",
       "      <td>2.000000</td>\n",
       "      <td>1.000000</td>\n",
       "      <td>1.000000</td>\n",
       "      <td>0.000000</td>\n",
       "      <td>1.000000</td>\n",
       "      <td>0.000000</td>\n",
       "      <td>0.000000</td>\n",
       "      <td>0.000000</td>\n",
       "      <td>1037.000000</td>\n",
       "    </tr>\n",
       "    <tr>\n",
       "      <th>50%</th>\n",
       "      <td>153.000000</td>\n",
       "      <td>77.000000</td>\n",
       "      <td>8.000000</td>\n",
       "      <td>2.000000</td>\n",
       "      <td>3.000000</td>\n",
       "      <td>1.000000</td>\n",
       "      <td>1.000000</td>\n",
       "      <td>0.000000</td>\n",
       "      <td>2.000000</td>\n",
       "      <td>327.000000</td>\n",
       "      <td>1489.000000</td>\n",
       "    </tr>\n",
       "    <tr>\n",
       "      <th>75%</th>\n",
       "      <td>271.000000</td>\n",
       "      <td>397.000000</td>\n",
       "      <td>36.000000</td>\n",
       "      <td>3.000000</td>\n",
       "      <td>5.000000</td>\n",
       "      <td>1.000000</td>\n",
       "      <td>1.000000</td>\n",
       "      <td>0.000000</td>\n",
       "      <td>7.000000</td>\n",
       "      <td>649.000000</td>\n",
       "      <td>2960.000000</td>\n",
       "    </tr>\n",
       "    <tr>\n",
       "      <th>max</th>\n",
       "      <td>956.000000</td>\n",
       "      <td>4081.000000</td>\n",
       "      <td>28752.000000</td>\n",
       "      <td>6.000000</td>\n",
       "      <td>6.000000</td>\n",
       "      <td>1.000000</td>\n",
       "      <td>2.000000</td>\n",
       "      <td>1.000000</td>\n",
       "      <td>8.000000</td>\n",
       "      <td>1087.000000</td>\n",
       "      <td>3508.000000</td>\n",
       "    </tr>\n",
       "  </tbody>\n",
       "</table>\n",
       "</div>"
      ],
      "text/plain": [
       "               user          item           cnt       daytime       weekday  \\\n",
       "count  96203.000000  96203.000000  96203.000000  96203.000000  96203.000000   \n",
       "mean     189.646944    386.754207     81.330894      2.165317      2.885627   \n",
       "std      156.458370    683.779627    395.414980      1.825046      2.009485   \n",
       "min        0.000000      0.000000      1.000000      0.000000      0.000000   \n",
       "25%       74.000000     21.000000      2.000000      1.000000      1.000000   \n",
       "50%      153.000000     77.000000      8.000000      2.000000      3.000000   \n",
       "75%      271.000000    397.000000     36.000000      3.000000      5.000000   \n",
       "max      956.000000   4081.000000  28752.000000      6.000000      6.000000   \n",
       "\n",
       "          isweekend      homework          cost       weather          city  \\\n",
       "count  96203.000000  96203.000000  96203.000000  96203.000000  96203.000000   \n",
       "mean       0.659792      0.885565      0.050872      3.432835    333.966176   \n",
       "std        0.473781      0.447594      0.219737      3.380435    359.977130   \n",
       "min        0.000000      0.000000      0.000000      0.000000      0.000000   \n",
       "25%        0.000000      1.000000      0.000000      0.000000      0.000000   \n",
       "50%        1.000000      1.000000      0.000000      2.000000    327.000000   \n",
       "75%        1.000000      1.000000      0.000000      7.000000    649.000000   \n",
       "max        1.000000      2.000000      1.000000      8.000000   1087.000000   \n",
       "\n",
       "               name  \n",
       "count  96203.000000  \n",
       "mean    1800.068990  \n",
       "std     1041.000073  \n",
       "min        0.000000  \n",
       "25%     1037.000000  \n",
       "50%     1489.000000  \n",
       "75%     2960.000000  \n",
       "max     3508.000000  "
      ]
     },
     "execution_count": 17,
     "metadata": {},
     "output_type": "execute_result"
    }
   ],
   "source": [
    "df.describe()"
   ]
  },
  {
   "cell_type": "code",
   "execution_count": 18,
   "id": "d237ae94-c246-4c76-8c7d-c1532fb06f4c",
   "metadata": {},
   "outputs": [
    {
     "name": "stdout",
     "output_type": "stream",
     "text": [
      "int64\n",
      "int64\n"
     ]
    }
   ],
   "source": [
    "print(df['item'].dtype)\n",
    "print(meta_app['item'].dtype)"
   ]
  },
  {
   "cell_type": "code",
   "execution_count": 19,
   "id": "bb1e7c5f-58e8-453c-8dca-1de2ed950132",
   "metadata": {},
   "outputs": [
    {
     "name": "stdout",
     "output_type": "stream",
     "text": [
      "Defaulting to user installation because normal site-packages is not writeable\n",
      "Requirement already satisfied: matplotlib in c:\\programdata\\anaconda3\\lib\\site-packages (3.8.4)\n",
      "Requirement already satisfied: contourpy>=1.0.1 in c:\\programdata\\anaconda3\\lib\\site-packages (from matplotlib) (1.2.0)\n",
      "Requirement already satisfied: cycler>=0.10 in c:\\programdata\\anaconda3\\lib\\site-packages (from matplotlib) (0.11.0)\n",
      "Requirement already satisfied: fonttools>=4.22.0 in c:\\programdata\\anaconda3\\lib\\site-packages (from matplotlib) (4.51.0)\n",
      "Requirement already satisfied: kiwisolver>=1.3.1 in c:\\programdata\\anaconda3\\lib\\site-packages (from matplotlib) (1.4.4)\n",
      "Requirement already satisfied: numpy>=1.21 in c:\\programdata\\anaconda3\\lib\\site-packages (from matplotlib) (1.26.4)\n",
      "Requirement already satisfied: packaging>=20.0 in c:\\programdata\\anaconda3\\lib\\site-packages (from matplotlib) (23.2)\n",
      "Requirement already satisfied: pillow>=8 in c:\\programdata\\anaconda3\\lib\\site-packages (from matplotlib) (10.3.0)\n",
      "Requirement already satisfied: pyparsing>=2.3.1 in c:\\programdata\\anaconda3\\lib\\site-packages (from matplotlib) (3.0.9)\n",
      "Requirement already satisfied: python-dateutil>=2.7 in c:\\programdata\\anaconda3\\lib\\site-packages (from matplotlib) (2.9.0.post0)\n",
      "Requirement already satisfied: six>=1.5 in c:\\programdata\\anaconda3\\lib\\site-packages (from python-dateutil>=2.7->matplotlib) (1.16.0)\n"
     ]
    }
   ],
   "source": [
    "!pip install matplotlib"
   ]
  },
  {
   "cell_type": "code",
   "execution_count": 20,
   "id": "cff6748e-4116-4559-970b-edb2d60912c2",
   "metadata": {},
   "outputs": [
    {
     "data": {
      "text/plain": [
       "<Axes: xlabel='city'>"
      ]
     },
     "execution_count": 20,
     "metadata": {},
     "output_type": "execute_result"
    },
    {
     "data": {
      "image/png": "[encoded data removed]",
      "text/plain": [
       "<Figure size 640x480 with 1 Axes>"
      ]
     },
     "metadata": {},
     "output_type": "display_data"
    }
   ],
   "source": [
    "sns.boxplot(x='city',data=df)"
   ]
  },
  {
   "cell_type": "code",
   "execution_count": 21,
   "id": "1b5c96a4-a65a-46cf-b8f9-279b4acb6ee0",
   "metadata": {},
   "outputs": [],
   "source": [
    "df['city'] = pd.to_numeric(df['city'], errors='coerce')"
   ]
  },
  {
   "cell_type": "code",
   "execution_count": 22,
   "id": "72c5f621-4ed6-45f8-a12b-4493d5ac6dbf",
   "metadata": {},
   "outputs": [
    {
     "name": "stdout",
     "output_type": "stream",
     "text": [
      "0.25      0.0\n",
      "0.75    649.0\n",
      "Name: city, dtype: float64\n",
      "0.0\n",
      "649.0\n",
      "649.0\n",
      "1622.5\n",
      "-973.5\n"
     ]
    }
   ],
   "source": [
    "quant = df['city'].quantile(q=[0.25, 0.75])\n",
    "print(quant)\n",
    "Q1 = quant.iloc[0]\n",
    "print(Q1)\n",
    "Q3 = quant.iloc[1]\n",
    "print(Q3)\n",
    "IQR = Q3 - Q1\n",
    "print(IQR)\n",
    "maxwhisker = Q3 + 1.5 * IQR\n",
    "print(maxwhisker)\n",
    "minwhisker = Q1 - 1.5 * IQR\n",
    "print(minwhisker)\n"
   ]
  },
  {
   "cell_type": "code",
   "execution_count": 23,
   "id": "e49205b3-4377-40fe-981b-b6333e592b10",
   "metadata": {},
   "outputs": [],
   "source": [
    "df['city']=np.where(df['city']>649,649,df['city'])"
   ]
  },
  {
   "cell_type": "code",
   "execution_count": 24,
   "id": "a88a80f7-ec74-4494-a78e-2d750924b3fd",
   "metadata": {},
   "outputs": [
    {
     "data": {
      "text/plain": [
       "<Axes: xlabel='city'>"
      ]
     },
     "execution_count": 24,
     "metadata": {},
     "output_type": "execute_result"
    },
    {
     "data": {
      "image/png": "[encoded data removed]",
      "text/plain": [
       "<Figure size 640x480 with 1 Axes>"
      ]
     },
     "metadata": {},
     "output_type": "display_data"
    }
   ],
   "source": [
    "sns.boxplot(x='city',data=df)"
   ]
  },
  {
   "cell_type": "code",
   "execution_count": 25,
   "id": "d346be69-6f21-496f-8b19-6328e78e3ce8",
   "metadata": {},
   "outputs": [
    {
     "data": {
      "text/plain": [
       "<Axes: xlabel='city', ylabel='Count'>"
      ]
     },
     "execution_count": 25,
     "metadata": {},
     "output_type": "execute_result"
    },
    {
     "data": {
      "image/png": "[encoded data removed]",
      "text/plain": [
       "<Figure size 640x480 with 1 Axes>"
      ]
     },
     "metadata": {},
     "output_type": "display_data"
    }
   ],
   "source": [
    "sns.histplot(x='city',data=df)\n"
   ]
  },
  {
   "cell_type": "code",
   "execution_count": 26,
   "id": "16b09806-461c-43b3-89ef-e68fe143bd46",
   "metadata": {},
   "outputs": [
    {
     "data": {
      "text/plain": [
       "<Axes: xlabel='homework', ylabel='count'>"
      ]
     },
     "execution_count": 26,
     "metadata": {},
     "output_type": "execute_result"
    },
    {
     "data": {
      "image/png": "[encoded data removed]",
      "text/plain": [
       "<Figure size 640x480 with 1 Axes>"
      ]
     },
     "metadata": {},
     "output_type": "display_data"
    }
   ],
   "source": [
    "sns.countplot(x='homework',data=df)"
   ]
  },
  {
   "cell_type": "code",
   "execution_count": 27,
   "id": "aa08705c-7775-4e74-8fbe-adcf3ceee3b1",
   "metadata": {},
   "outputs": [
    {
     "data": {
      "image/png": "[encoded data removed]",
      "text/plain": [
       "<Figure size 2000x1000 with 6 Axes>"
      ]
     },
     "metadata": {},
     "output_type": "display_data"
    }
   ],
   "source": [
    "fig,axes=plt.subplots(2,3,figsize=(20,10))\n",
    "fig.suptitle(\"Univariate Analysis\")\n",
    "col=['daytime','weekday','isweekend','homework','cost','weather']\n",
    "k=0\n",
    "for i in range(2):\n",
    "  for j in range(3):\n",
    "    d=dict(df[col[k]].value_counts())\n",
    "    axes[i,j].pie(d.values(),labels=d.keys())\n",
    "    k+=1\n"
   ]
  },
  {
   "cell_type": "code",
   "execution_count": 28,
   "id": "7e4c248f-ef15-47b0-acb4-eca345820615",
   "metadata": {},
   "outputs": [
    {
     "data": {
      "text/plain": [
       "<Axes: xlabel='weather', ylabel='count'>"
      ]
     },
     "execution_count": 28,
     "metadata": {},
     "output_type": "execute_result"
    },
    {
     "data": {
      "image/png": "[encoded data removed]",
      "text/plain": [
       "<Figure size 2000x1000 with 6 Axes>"
      ]
     },
     "metadata": {},
     "output_type": "display_data"
    }
   ],
   "source": [
    "import pandas as pd\n",
    "import seaborn as sns\n",
    "import matplotlib.pyplot as plt\n",
    "\n",
    "fig,axes=plt.subplots(2,3,figsize=(20,10))\n",
    "fig.suptitle(\"Bivariate Analysis\")\n",
    "\n",
    "# Melt the dataframe to long-form\n",
    "df_melted = pd.melt(df, id_vars=['daytime', 'weekday', 'isweekend','cost','weather'], value_vars=['homework'])\n",
    "\n",
    "# Use the melted dataframe in the countplots\n",
    "sns.countplot(x='daytime', hue='value', data=df_melted, ax=axes[0,0])\n",
    "sns.countplot(x='weekday', hue='value', data=df_melted, ax=axes[0,1])\n",
    "sns.countplot(x='isweekend', hue='value', data=df_melted, ax=axes[0,2])\n",
    "sns.countplot(x='cost' , hue='value', data=df_melted, ax=axes[1,0])\n",
    "sns.countplot(x='weather', hue='value',data=df_melted,ax=axes[1,1])"
   ]
  },
  {
   "cell_type": "code",
   "execution_count": 29,
   "id": "84cc729e-f9c9-4268-9ac2-fe20cb65c82b",
   "metadata": {},
   "outputs": [],
   "source": [
    "# Feature Selection\n",
    "features = ['item','daytime','weekday','isweekend','cost','weather','name']\n",
    "X = df[features]\n",
    "y = df[[\"homework\"]]\n"
   ]
  },
  {
   "cell_type": "code",
   "execution_count": 30,
   "id": "966c9b69-4e50-4964-970b-d96a33d005de",
   "metadata": {},
   "outputs": [
    {
     "name": "stdout",
     "output_type": "stream",
     "text": [
      "0         260\n",
      "1        3217\n",
      "2         698\n",
      "3        1489\n",
      "4        2523\n",
      "         ... \n",
      "96198     260\n",
      "96199    1037\n",
      "96200    1994\n",
      "96201    1307\n",
      "96202    2429\n",
      "Name: name, Length: 96203, dtype: int32\n"
     ]
    }
   ],
   "source": [
    "print(df['name'])"
   ]
  },
  {
   "cell_type": "code",
   "execution_count": 31,
   "id": "b0592c78-05f5-4fd3-b1f3-f120b0aa7f98",
   "metadata": {},
   "outputs": [],
   "source": [
    "from imblearn.over_sampling import SMOTE"
   ]
  },
  {
   "cell_type": "code",
   "execution_count": 32,
   "id": "06107c19-691e-40e4-9f76-e73e7aea91e9",
   "metadata": {},
   "outputs": [
    {
     "data": {
      "text/plain": [
       "homework\n",
       "1    75670\n",
       "0    15771\n",
       "2     4762\n",
       "Name: count, dtype: int64"
      ]
     },
     "execution_count": 32,
     "metadata": {},
     "output_type": "execute_result"
    }
   ],
   "source": [
    "df['homework'].value_counts()"
   ]
  },
  {
   "cell_type": "code",
   "execution_count": 33,
   "id": "b55507a5-1555-40f2-a1e0-1c2af1fa7011",
   "metadata": {},
   "outputs": [
    {
     "data": {
      "text/plain": [
       "(227010, 8)"
      ]
     },
     "execution_count": 33,
     "metadata": {},
     "output_type": "execute_result"
    }
   ],
   "source": [
    "smote_sampler=SMOTE(random_state=42)\n",
    "X_smote,y_smote = smote_sampler.fit_resample(X,y)\n",
    "smote_data = pd.concat([X_smote,y_smote],axis=1)\n",
    "smote_data.shape\n"
   ]
  },
  {
   "cell_type": "code",
   "execution_count": 34,
   "id": "da8a3983-ea39-4a9a-b629-f10a2d973ea7",
   "metadata": {},
   "outputs": [
    {
     "data": {
      "text/plain": [
       "homework\n",
       "1    75670\n",
       "0    75670\n",
       "2    75670\n",
       "Name: count, dtype: int64"
      ]
     },
     "execution_count": 34,
     "metadata": {},
     "output_type": "execute_result"
    }
   ],
   "source": [
    "smote_data['homework'].value_counts()"
   ]
  },
  {
   "cell_type": "code",
   "execution_count": 35,
   "id": "ea2f619f-6774-4b83-a67d-aa9afe6cef9f",
   "metadata": {},
   "outputs": [],
   "source": [
    "X_train, X_test, y_train, y_test = train_test_split(X_smote, y_smote, test_size=0.8, random_state=42)\n"
   ]
  },
  {
   "cell_type": "code",
   "execution_count": 36,
   "id": "1a3b5b7d-77bd-4d2e-bc41-9293b1f4abd2",
   "metadata": {},
   "outputs": [],
   "source": [
    "# Scaling Data so that all the features has similar weight.\n",
    "scaler = StandardScaler()\n",
    "scaler.fit(X_train)\n",
    "X_train = scaler.transform(X_train)\n",
    "X_test = scaler.transform(X_test)\n"
   ]
  },
  {
   "cell_type": "code",
   "execution_count": 37,
   "id": "7635ac70-74c3-4b2c-a1ab-6ee81c1f9017",
   "metadata": {},
   "outputs": [],
   "source": [
    "from sklearn.neighbors import KNeighborsClassifier\n",
    "from sklearn.ensemble import RandomForestClassifier\n",
    "from sklearn.tree import DecisionTreeClassifier\n",
    "from xgboost import XGBClassifier\n",
    "from sklearn.ensemble import BaggingClassifier\n",
    "from sklearn.ensemble import AdaBoostClassifier\n"
   ]
  },
  {
   "cell_type": "code",
   "execution_count": 38,
   "id": "07a59671-1de9-4495-9f31-f9308480dc2d",
   "metadata": {},
   "outputs": [],
   "source": [
    "models=[]\n",
    "models = [('AdaBoost', AdaBoostClassifier(algorithm='SAMME'))]\n",
    "models.append(('KNeighborsClassifier',KNeighborsClassifier()))\n",
    "models.append(('DecisionTreeClassifier',DecisionTreeClassifier()))\n",
    "models.append(('RandomForestClassifier',RandomForestClassifier()))\n",
    "models.append(('XGBClassifier',XGBClassifier()))\n",
    "models.append(('BaggingClassifier',BaggingClassifier()))\n",
    "\n"
   ]
  },
  {
   "cell_type": "code",
   "execution_count": 39,
   "id": "38df1f94-63be-4a8b-abb4-7ea0fbfe8845",
   "metadata": {},
   "outputs": [],
   "source": [
    "from sklearn.metrics import precision_score, recall_score, accuracy_score, f1_score\n",
    "\n",
    "model_perform = {}\n",
    "\n",
    "for name, model in models:\n",
    "    # Fit the model\n",
    "    model.fit(X_train, y_train.values.ravel())\n",
    "    \n",
    "    # Make predictions\n",
    "    y_pred = model.predict(X_test)\n",
    "    \n",
    "    # Calculate performance metrics\n",
    "    p = precision_score(y_test, y_pred, average='micro')\n",
    "    r = recall_score(y_test, y_pred, average='micro')\n",
    "    a = accuracy_score(y_test, y_pred)\n",
    "    f = f1_score(y_test, y_pred, average='micro')\n",
    "    \n",
    "    # Store the performance metrics\n",
    "    s = {'Precision': p, 'Recall': r, 'Accuracy': a, 'F1 Score': f}\n",
    "    model_perform[name] = s\n",
    "\n"
   ]
  },
  {
   "cell_type": "code",
   "execution_count": 40,
   "id": "179acfad-4707-4e3a-9051-b15197856910",
   "metadata": {},
   "outputs": [
    {
     "name": "stdout",
     "output_type": "stream",
     "text": [
      "AdaBoost\n",
      "Precision:  0.4572430729923792\n",
      "Recall:  0.4572430729923792\n",
      "Accuracy:  0.4572430729923792\n",
      "F1 Score:  0.4572430729923792\n",
      "\n",
      "KNeighborsClassifier\n",
      "Precision:  0.5377571472622351\n",
      "Recall:  0.5377571472622351\n",
      "Accuracy:  0.5377571472622351\n",
      "F1 Score:  0.5377571472622351\n",
      "\n",
      "DecisionTreeClassifier\n",
      "Precision:  0.6204242103872076\n",
      "Recall:  0.6204242103872076\n",
      "Accuracy:  0.6204242103872076\n",
      "F1 Score:  0.6204242103872076\n",
      "\n",
      "RandomForestClassifier\n",
      "Precision:  0.6379729967842827\n",
      "Recall:  0.6379729967842827\n",
      "Accuracy:  0.6379729967842827\n",
      "F1 Score:  0.6379729967842827\n",
      "\n",
      "XGBClassifier\n",
      "Precision:  0.64430531694639\n",
      "Recall:  0.64430531694639\n",
      "Accuracy:  0.64430531694639\n",
      "F1 Score:  0.64430531694639\n",
      "\n",
      "BaggingClassifier\n",
      "Precision:  0.6371305228844544\n",
      "Recall:  0.6371305228844544\n",
      "Accuracy:  0.6371305228844544\n",
      "F1 Score:  0.6371305228844544\n",
      "\n"
     ]
    }
   ],
   "source": [
    "for model in model_perform:\n",
    "    print(model)\n",
    "    print(\"Precision: \",model_perform[model]['Precision'])\n",
    "    print(\"Recall: \",model_perform[model]['Recall'])\n",
    "    print(\"Accuracy: \",model_perform[model]['Accuracy'])\n",
    "    print(\"F1 Score: \",model_perform[model]['F1 Score'])\n",
    "    print()\n"
   ]
  },
  {
   "cell_type": "code",
   "execution_count": 41,
   "id": "3547850c-334e-4733-8df6-810dabfe2aa2",
   "metadata": {},
   "outputs": [],
   "source": [
    "dt_classifier=DecisionTreeClassifier()"
   ]
  },
  {
   "cell_type": "code",
   "execution_count": 42,
   "id": "bc97ac3e-9bf9-41e7-b9c0-78fdc7238522",
   "metadata": {},
   "outputs": [],
   "source": [
    "# Define the hyperparameters and their possible values for tuning\n",
    "param_grid = {\n",
    "    'criterion': ['gini', 'entropy'],\n",
    "    'splitter': ['best', 'random'],\n",
    "    'max_depth': [None, 2, 4, 6, 8,10],\n",
    "    'min_samples_split': [2, 5, 10],\n",
    "    'min_samples_leaf': [1, 2, 4],\n",
    "    'max_features': [None, 'sqrt', 'log2'],\n",
    "    'min_impurity_decrease': [0.0, 0.1, 0.2],\n",
    "    'ccp_alpha': [0.0, 0.1 ,0.2]\n",
    "}\n"
   ]
  },
  {
   "cell_type": "code",
   "execution_count": 43,
   "id": "0f6d4fdf-fba3-46a5-92ff-f40cf302b248",
   "metadata": {},
   "outputs": [],
   "source": [
    "# Initialize RandomizedSearchCV with DecisionTreeClassifier\n",
    "random_search = RandomizedSearchCV(estimator=dt_classifier,\n",
    "                                   param_distributions=param_grid,\n",
    "                                   scoring='accuracy',\n",
    "                                   cv=3,\n",
    "                                   n_iter=100,\n",
    "                                   random_state=42)"
   ]
  },
  {
   "cell_type": "code",
   "execution_count": 44,
   "id": "0de59f00-cbac-4d4a-8f66-e5e0f3648ba7",
   "metadata": {},
   "outputs": [
    {
     "name": "stdout",
     "output_type": "stream",
     "text": [
      "Best Parameters: {'splitter': 'best', 'min_samples_split': 2, 'min_samples_leaf': 2, 'min_impurity_decrease': 0.0, 'max_features': None, 'max_depth': None, 'criterion': 'entropy', 'ccp_alpha': 0.0}\n",
      "Best Score: 0.5765605039425576\n"
     ]
    }
   ],
   "source": [
    "random_search.fit(X_train, y_train)\n",
    "RandomizedSearchCV(cv=3,estimator=DecisionTreeClassifier(),n_iter=100,\n",
    "                   param_distributions={'ccp_alpha':[0.0, 0.1, 0.2],\n",
    "                                        'criterion':['gini','entropy'],\n",
    "                                        'max_depth':[None, 2, 4, 6, 8, 10], \n",
    "                                        'max_features':[None,'sqrt','log2'], \n",
    "                                        'min_impurity_decrease':[0.0, 0.1, 0.2], \n",
    "                                        'min_samples_leaf':[1, 2, 4], \n",
    "                                        'min_samples_split':[2, 5, 10], \n",
    "                                        'splitter': ['best', 'random']},\n",
    "\n",
    "random_state=42, scoring='accuracy')\n",
    "\n",
    "print(\"Best Parameters:\", random_search.best_params_)\n",
    "\n",
    "print(\"Best Score:\", random_search.best_score_)"
   ]
  },
  {
   "cell_type": "code",
   "execution_count": 45,
   "id": "d93f8829-a2fa-41f2-91a8-015efb69aa30",
   "metadata": {},
   "outputs": [
    {
     "name": "stdout",
     "output_type": "stream",
     "text": [
      "Best Score: 0.6036573278710189\n"
     ]
    }
   ],
   "source": [
    "print(\"Best Score:\",random_search.score(X_test,y_test))"
   ]
  },
  {
   "cell_type": "code",
   "execution_count": 46,
   "id": "8c7cbee5-0ba2-4981-98f0-c58c8938ab9b",
   "metadata": {},
   "outputs": [],
   "source": [
    "dt_final=random_search"
   ]
  },
  {
   "cell_type": "code",
   "execution_count": 47,
   "id": "021e2347-7a4c-4fb5-9132-345c8d0dc853",
   "metadata": {},
   "outputs": [
    {
     "name": "stdout",
     "output_type": "stream",
     "text": [
      "              precision    recall  f1-score   support\n",
      "\n",
      "           0     0.5928    0.6164    0.6043     60466\n",
      "           1     0.6314    0.5321    0.5775     60427\n",
      "           2     0.6826    0.7623    0.7202     60715\n",
      "\n",
      "    accuracy                         0.6371    181608\n",
      "   macro avg     0.6356    0.6369    0.6340    181608\n",
      "weighted avg     0.6356    0.6371    0.6342    181608\n",
      "\n"
     ]
    }
   ],
   "source": [
    "from sklearn.metrics import classification_report,confusion_matrix\n",
    "\n",
    "print(classification_report(y_test,y_pred,digits=4))"
   ]
  },
  {
   "cell_type": "code",
   "execution_count": 48,
   "id": "b65d9e3d-3152-4d5d-8661-e259012b0cd4",
   "metadata": {},
   "outputs": [
    {
     "name": "stdout",
     "output_type": "stream",
     "text": [
      "0.6036573278710189\n"
     ]
    },
    {
     "data": {
      "text/plain": [
       "<Axes: >"
      ]
     },
     "execution_count": 48,
     "metadata": {},
     "output_type": "execute_result"
    },
    {
     "data": {
      "image/png": "[encoded data removed]",
      "text/plain": [
       "<Figure size 700x500 with 2 Axes>"
      ]
     },
     "metadata": {},
     "output_type": "display_data"
    }
   ],
   "source": [
    "\n",
    "\n",
    "y_pred=dt_final.predict(X_test)\n",
    "\n",
    "print(dt_final.score(X_test,y_test))\n",
    "cm=confusion_matrix(y_test,y_pred,labels=[0,1,2]) \n",
    "df_cm = pd.DataFrame(cm,index=[i for i in [\"Homework\", \"Unknown\", \"Work\"]], \n",
    "                     columns = [i for i in [\"Homework\", \"Unknown\", \"Work\"]])\n",
    "\n",
    "plt.figure(figsize = (7,5)) \n",
    "sns.heatmap(df_cm, annot=True,fmt='g',cmap=sns.cubehelix_palette(as_cmap=True))"
   ]
  },
  {
   "cell_type": "code",
   "execution_count": 49,
   "id": "417943e7-34bd-4d79-b187-6098f5625fbc",
   "metadata": {},
   "outputs": [],
   "source": [
    "base_estimator = DecisionTreeClassifier()"
   ]
  },
  {
   "cell_type": "code",
   "execution_count": 50,
   "id": "42fc2ba1-2c0b-47c7-b0d2-4a0bf9606f30",
   "metadata": {},
   "outputs": [],
   "source": [
    "bagging_classifier = BaggingClassifier(estimator=base_estimator)"
   ]
  },
  {
   "cell_type": "code",
   "execution_count": 51,
   "id": "f7375049-5398-4f6e-a591-d7911bf39c6e",
   "metadata": {},
   "outputs": [],
   "source": [
    "# Define the hyperparameters and their possible values for tuning\n",
    "\n",
    "param_grid = {\n",
    "\n",
    "    'n_estimators': [10, 50, 100],\n",
    "    'max_samples': [0.5, 0.7, 1.0],\n",
    "    'max_features': [0.5, 0.7, 1.0],\n",
    "    'bootstrap': [True, False],\n",
    "    'bootstrap_features': [True, False]\n",
    "}"
   ]
  },
  {
   "cell_type": "code",
   "execution_count": 52,
   "id": "ca2c1e90-c890-45b2-81de-49773f898d72",
   "metadata": {},
   "outputs": [],
   "source": [
    "random_search = RandomizedSearchCV(estimator=bagging_classifier, param_distributions=param_grid, \n",
    "                                   scoring='accuracy', cv=2, random_state=42)\n",
    "\n"
   ]
  },
  {
   "cell_type": "code",
   "execution_count": 53,
   "id": "04aad205-548a-482a-84c0-b544106a25fa",
   "metadata": {},
   "outputs": [
    {
     "data": {
      "text/html": [
       "<style>#sk-container-id-1 {\n",
       "  /* Definition of color scheme common for light and dark mode */\n",
       "  --sklearn-color-text: black;\n",
       "  --sklearn-color-line: gray;\n",
       "  /* Definition of color scheme for unfitted estimators */\n",
       "  --sklearn-color-unfitted-level-0: #fff5e6;\n",
       "  --sklearn-color-unfitted-level-1: #f6e4d2;\n",
       "  --sklearn-color-unfitted-level-2: #ffe0b3;\n",
       "  --sklearn-color-unfitted-level-3: chocolate;\n",
       "  /* Definition of color scheme for fitted estimators */\n",
       "  --sklearn-color-fitted-level-0: #f0f8ff;\n",
       "  --sklearn-color-fitted-level-1: #d4ebff;\n",
       "  --sklearn-color-fitted-level-2: #b3dbfd;\n",
       "  --sklearn-color-fitted-level-3: cornflowerblue;\n",
       "\n",
       "  /* Specific color for light theme */\n",
       "  --sklearn-color-text-on-default-background: var(--sg-text-color, var(--theme-code-foreground, var(--jp-content-font-color1, black)));\n",
       "  --sklearn-color-background: var(--sg-background-color, var(--theme-background, var(--jp-layout-color0, white)));\n",
       "  --sklearn-color-border-box: var(--sg-text-color, var(--theme-code-foreground, var(--jp-content-font-color1, black)));\n",
       "  --sklearn-color-icon: #696969;\n",
       "\n",
       "  @media (prefers-color-scheme: dark) {\n",
       "    /* Redefinition of color scheme for dark theme */\n",
       "    --sklearn-color-text-on-default-background: var(--sg-text-color, var(--theme-code-foreground, var(--jp-content-font-color1, white)));\n",
       "    --sklearn-color-background: var(--sg-background-color, var(--theme-background, var(--jp-layout-color0, #111)));\n",
       "    --sklearn-color-border-box: var(--sg-text-color, var(--theme-code-foreground, var(--jp-content-font-color1, white)));\n",
       "    --sklearn-color-icon: #878787;\n",
       "  }\n",
       "}\n",
       "\n",
       "#sk-container-id-1 {\n",
       "  color: var(--sklearn-color-text);\n",
       "}\n",
       "\n",
       "#sk-container-id-1 pre {\n",
       "  padding: 0;\n",
       "}\n",
       "\n",
       "#sk-container-id-1 input.sk-hidden--visually {\n",
       "  border: 0;\n",
       "  clip: rect(1px 1px 1px 1px);\n",
       "  clip: rect(1px, 1px, 1px, 1px);\n",
       "  height: 1px;\n",
       "  margin: -1px;\n",
       "  overflow: hidden;\n",
       "  padding: 0;\n",
       "  position: absolute;\n",
       "  width: 1px;\n",
       "}\n",
       "\n",
       "#sk-container-id-1 div.sk-dashed-wrapped {\n",
       "  border: 1px dashed var(--sklearn-color-line);\n",
       "  margin: 0 0.4em 0.5em 0.4em;\n",
       "  box-sizing: border-box;\n",
       "  padding-bottom: 0.4em;\n",
       "  background-color: var(--sklearn-color-background);\n",
       "}\n",
       "\n",
       "#sk-container-id-1 div.sk-container {\n",
       "  /* jupyter's `normalize.less` sets `[hidden] { display: none; }`\n",
       "     but bootstrap.min.css set `[hidden] { display: none !important; }`\n",
       "     so we also need the `!important` here to be able to override the\n",
       "     default hidden behavior on the sphinx rendered scikit-learn.org.\n",
       "     See: https://github.com/scikit-learn/scikit-learn/issues/21755 */\n",
       "  display: inline-block !important;\n",
       "  position: relative;\n",
       "}\n",
       "\n",
       "#sk-container-id-1 div.sk-text-repr-fallback {\n",
       "  display: none;\n",
       "}\n",
       "\n",
       "div.sk-parallel-item,\n",
       "div.sk-serial,\n",
       "div.sk-item {\n",
       "  /* draw centered vertical line to link estimators */\n",
       "  background-image: linear-gradient(var(--sklearn-color-text-on-default-background), var(--sklearn-color-text-on-default-background));\n",
       "  background-size: 2px 100%;\n",
       "  background-repeat: no-repeat;\n",
       "  background-position: center center;\n",
       "}\n",
       "\n",
       "/* Parallel-specific style estimator block */\n",
       "\n",
       "#sk-container-id-1 div.sk-parallel-item::after {\n",
       "  content: \"\";\n",
       "  width: 100%;\n",
       "  border-bottom: 2px solid var(--sklearn-color-text-on-default-background);\n",
       "  flex-grow: 1;\n",
       "}\n",
       "\n",
       "#sk-container-id-1 div.sk-parallel {\n",
       "  display: flex;\n",
       "  align-items: stretch;\n",
       "  justify-content: center;\n",
       "  background-color: var(--sklearn-color-background);\n",
       "  position: relative;\n",
       "}\n",
       "\n",
       "#sk-container-id-1 div.sk-parallel-item {\n",
       "  display: flex;\n",
       "  flex-direction: column;\n",
       "}\n",
       "\n",
       "#sk-container-id-1 div.sk-parallel-item:first-child::after {\n",
       "  align-self: flex-end;\n",
       "  width: 50%;\n",
       "}\n",
       "\n",
       "#sk-container-id-1 div.sk-parallel-item:last-child::after {\n",
       "  align-self: flex-start;\n",
       "  width: 50%;\n",
       "}\n",
       "\n",
       "#sk-container-id-1 div.sk-parallel-item:only-child::after {\n",
       "  width: 0;\n",
       "}\n",
       "\n",
       "/* Serial-specific style estimator block */\n",
       "\n",
       "#sk-container-id-1 div.sk-serial {\n",
       "  display: flex;\n",
       "  flex-direction: column;\n",
       "  align-items: center;\n",
       "  background-color: var(--sklearn-color-background);\n",
       "  padding-right: 1em;\n",
       "  padding-left: 1em;\n",
       "}\n",
       "\n",
       "\n",
       "/* Toggleable style: style used for estimator/Pipeline/ColumnTransformer box that is\n",
       "clickable and can be expanded/collapsed.\n",
       "- Pipeline and ColumnTransformer use this feature and define the default style\n",
       "- Estimators will overwrite some part of the style using the `sk-estimator` class\n",
       "*/\n",
       "\n",
       "/* Pipeline and ColumnTransformer style (default) */\n",
       "\n",
       "#sk-container-id-1 div.sk-toggleable {\n",
       "  /* Default theme specific background. It is overwritten whether we have a\n",
       "  specific estimator or a Pipeline/ColumnTransformer */\n",
       "  background-color: var(--sklearn-color-background);\n",
       "}\n",
       "\n",
       "/* Toggleable label */\n",
       "#sk-container-id-1 label.sk-toggleable__label {\n",
       "  cursor: pointer;\n",
       "  display: block;\n",
       "  width: 100%;\n",
       "  margin-bottom: 0;\n",
       "  padding: 0.5em;\n",
       "  box-sizing: border-box;\n",
       "  text-align: center;\n",
       "}\n",
       "\n",
       "#sk-container-id-1 label.sk-toggleable__label-arrow:before {\n",
       "  /* Arrow on the left of the label */\n",
       "  content: \"▸\";\n",
       "  float: left;\n",
       "  margin-right: 0.25em;\n",
       "  color: var(--sklearn-color-icon);\n",
       "}\n",
       "\n",
       "#sk-container-id-1 label.sk-toggleable__label-arrow:hover:before {\n",
       "  color: var(--sklearn-color-text);\n",
       "}\n",
       "\n",
       "/* Toggleable content - dropdown */\n",
       "\n",
       "#sk-container-id-1 div.sk-toggleable__content {\n",
       "  max-height: 0;\n",
       "  max-width: 0;\n",
       "  overflow: hidden;\n",
       "  text-align: left;\n",
       "  /* unfitted */\n",
       "  background-color: var(--sklearn-color-unfitted-level-0);\n",
       "}\n",
       "\n",
       "#sk-container-id-1 div.sk-toggleable__content.fitted {\n",
       "  /* fitted */\n",
       "  background-color: var(--sklearn-color-fitted-level-0);\n",
       "}\n",
       "\n",
       "#sk-container-id-1 div.sk-toggleable__content pre {\n",
       "  margin: 0.2em;\n",
       "  border-radius: 0.25em;\n",
       "  color: var(--sklearn-color-text);\n",
       "  /* unfitted */\n",
       "  background-color: var(--sklearn-color-unfitted-level-0);\n",
       "}\n",
       "\n",
       "#sk-container-id-1 div.sk-toggleable__content.fitted pre {\n",
       "  /* unfitted */\n",
       "  background-color: var(--sklearn-color-fitted-level-0);\n",
       "}\n",
       "\n",
       "#sk-container-id-1 input.sk-toggleable__control:checked~div.sk-toggleable__content {\n",
       "  /* Expand drop-down */\n",
       "  max-height: 200px;\n",
       "  max-width: 100%;\n",
       "  overflow: auto;\n",
       "}\n",
       "\n",
       "#sk-container-id-1 input.sk-toggleable__control:checked~label.sk-toggleable__label-arrow:before {\n",
       "  content: \"▾\";\n",
       "}\n",
       "\n",
       "/* Pipeline/ColumnTransformer-specific style */\n",
       "\n",
       "#sk-container-id-1 div.sk-label input.sk-toggleable__control:checked~label.sk-toggleable__label {\n",
       "  color: var(--sklearn-color-text);\n",
       "  background-color: var(--sklearn-color-unfitted-level-2);\n",
       "}\n",
       "\n",
       "#sk-container-id-1 div.sk-label.fitted input.sk-toggleable__control:checked~label.sk-toggleable__label {\n",
       "  background-color: var(--sklearn-color-fitted-level-2);\n",
       "}\n",
       "\n",
       "/* Estimator-specific style */\n",
       "\n",
       "/* Colorize estimator box */\n",
       "#sk-container-id-1 div.sk-estimator input.sk-toggleable__control:checked~label.sk-toggleable__label {\n",
       "  /* unfitted */\n",
       "  background-color: var(--sklearn-color-unfitted-level-2);\n",
       "}\n",
       "\n",
       "#sk-container-id-1 div.sk-estimator.fitted input.sk-toggleable__control:checked~label.sk-toggleable__label {\n",
       "  /* fitted */\n",
       "  background-color: var(--sklearn-color-fitted-level-2);\n",
       "}\n",
       "\n",
       "#sk-container-id-1 div.sk-label label.sk-toggleable__label,\n",
       "#sk-container-id-1 div.sk-label label {\n",
       "  /* The background is the default theme color */\n",
       "  color: var(--sklearn-color-text-on-default-background);\n",
       "}\n",
       "\n",
       "/* On hover, darken the color of the background */\n",
       "#sk-container-id-1 div.sk-label:hover label.sk-toggleable__label {\n",
       "  color: var(--sklearn-color-text);\n",
       "  background-color: var(--sklearn-color-unfitted-level-2);\n",
       "}\n",
       "\n",
       "/* Label box, darken color on hover, fitted */\n",
       "#sk-container-id-1 div.sk-label.fitted:hover label.sk-toggleable__label.fitted {\n",
       "  color: var(--sklearn-color-text);\n",
       "  background-color: var(--sklearn-color-fitted-level-2);\n",
       "}\n",
       "\n",
       "/* Estimator label */\n",
       "\n",
       "#sk-container-id-1 div.sk-label label {\n",
       "  font-family: monospace;\n",
       "  font-weight: bold;\n",
       "  display: inline-block;\n",
       "  line-height: 1.2em;\n",
       "}\n",
       "\n",
       "#sk-container-id-1 div.sk-label-container {\n",
       "  text-align: center;\n",
       "}\n",
       "\n",
       "/* Estimator-specific */\n",
       "#sk-container-id-1 div.sk-estimator {\n",
       "  font-family: monospace;\n",
       "  border: 1px dotted var(--sklearn-color-border-box);\n",
       "  border-radius: 0.25em;\n",
       "  box-sizing: border-box;\n",
       "  margin-bottom: 0.5em;\n",
       "  /* unfitted */\n",
       "  background-color: var(--sklearn-color-unfitted-level-0);\n",
       "}\n",
       "\n",
       "#sk-container-id-1 div.sk-estimator.fitted {\n",
       "  /* fitted */\n",
       "  background-color: var(--sklearn-color-fitted-level-0);\n",
       "}\n",
       "\n",
       "/* on hover */\n",
       "#sk-container-id-1 div.sk-estimator:hover {\n",
       "  /* unfitted */\n",
       "  background-color: var(--sklearn-color-unfitted-level-2);\n",
       "}\n",
       "\n",
       "#sk-container-id-1 div.sk-estimator.fitted:hover {\n",
       "  /* fitted */\n",
       "  background-color: var(--sklearn-color-fitted-level-2);\n",
       "}\n",
       "\n",
       "/* Specification for estimator info (e.g. \"i\" and \"?\") */\n",
       "\n",
       "/* Common style for \"i\" and \"?\" */\n",
       "\n",
       ".sk-estimator-doc-link,\n",
       "a:link.sk-estimator-doc-link,\n",
       "a:visited.sk-estimator-doc-link {\n",
       "  float: right;\n",
       "  font-size: smaller;\n",
       "  line-height: 1em;\n",
       "  font-family: monospace;\n",
       "  background-color: var(--sklearn-color-background);\n",
       "  border-radius: 1em;\n",
       "  height: 1em;\n",
       "  width: 1em;\n",
       "  text-decoration: none !important;\n",
       "  margin-left: 1ex;\n",
       "  /* unfitted */\n",
       "  border: var(--sklearn-color-unfitted-level-1) 1pt solid;\n",
       "  color: var(--sklearn-color-unfitted-level-1);\n",
       "}\n",
       "\n",
       ".sk-estimator-doc-link.fitted,\n",
       "a:link.sk-estimator-doc-link.fitted,\n",
       "a:visited.sk-estimator-doc-link.fitted {\n",
       "  /* fitted */\n",
       "  border: var(--sklearn-color-fitted-level-1) 1pt solid;\n",
       "  color: var(--sklearn-color-fitted-level-1);\n",
       "}\n",
       "\n",
       "/* On hover */\n",
       "div.sk-estimator:hover .sk-estimator-doc-link:hover,\n",
       ".sk-estimator-doc-link:hover,\n",
       "div.sk-label-container:hover .sk-estimator-doc-link:hover,\n",
       ".sk-estimator-doc-link:hover {\n",
       "  /* unfitted */\n",
       "  background-color: var(--sklearn-color-unfitted-level-3);\n",
       "  color: var(--sklearn-color-background);\n",
       "  text-decoration: none;\n",
       "}\n",
       "\n",
       "div.sk-estimator.fitted:hover .sk-estimator-doc-link.fitted:hover,\n",
       ".sk-estimator-doc-link.fitted:hover,\n",
       "div.sk-label-container:hover .sk-estimator-doc-link.fitted:hover,\n",
       ".sk-estimator-doc-link.fitted:hover {\n",
       "  /* fitted */\n",
       "  background-color: var(--sklearn-color-fitted-level-3);\n",
       "  color: var(--sklearn-color-background);\n",
       "  text-decoration: none;\n",
       "}\n",
       "\n",
       "/* Span, style for the box shown on hovering the info icon */\n",
       ".sk-estimator-doc-link span {\n",
       "  display: none;\n",
       "  z-index: 9999;\n",
       "  position: relative;\n",
       "  font-weight: normal;\n",
       "  right: .2ex;\n",
       "  padding: .5ex;\n",
       "  margin: .5ex;\n",
       "  width: min-content;\n",
       "  min-width: 20ex;\n",
       "  max-width: 50ex;\n",
       "  color: var(--sklearn-color-text);\n",
       "  box-shadow: 2pt 2pt 4pt #999;\n",
       "  /* unfitted */\n",
       "  background: var(--sklearn-color-unfitted-level-0);\n",
       "  border: .5pt solid var(--sklearn-color-unfitted-level-3);\n",
       "}\n",
       "\n",
       ".sk-estimator-doc-link.fitted span {\n",
       "  /* fitted */\n",
       "  background: var(--sklearn-color-fitted-level-0);\n",
       "  border: var(--sklearn-color-fitted-level-3);\n",
       "}\n",
       "\n",
       ".sk-estimator-doc-link:hover span {\n",
       "  display: block;\n",
       "}\n",
       "\n",
       "/* \"?\"-specific style due to the `<a>` HTML tag */\n",
       "\n",
       "#sk-container-id-1 a.estimator_doc_link {\n",
       "  float: right;\n",
       "  font-size: 1rem;\n",
       "  line-height: 1em;\n",
       "  font-family: monospace;\n",
       "  background-color: var(--sklearn-color-background);\n",
       "  border-radius: 1rem;\n",
       "  height: 1rem;\n",
       "  width: 1rem;\n",
       "  text-decoration: none;\n",
       "  /* unfitted */\n",
       "  color: var(--sklearn-color-unfitted-level-1);\n",
       "  border: var(--sklearn-color-unfitted-level-1) 1pt solid;\n",
       "}\n",
       "\n",
       "#sk-container-id-1 a.estimator_doc_link.fitted {\n",
       "  /* fitted */\n",
       "  border: var(--sklearn-color-fitted-level-1) 1pt solid;\n",
       "  color: var(--sklearn-color-fitted-level-1);\n",
       "}\n",
       "\n",
       "/* On hover */\n",
       "#sk-container-id-1 a.estimator_doc_link:hover {\n",
       "  /* unfitted */\n",
       "  background-color: var(--sklearn-color-unfitted-level-3);\n",
       "  color: var(--sklearn-color-background);\n",
       "  text-decoration: none;\n",
       "}\n",
       "\n",
       "#sk-container-id-1 a.estimator_doc_link.fitted:hover {\n",
       "  /* fitted */\n",
       "  background-color: var(--sklearn-color-fitted-level-3);\n",
       "}\n",
       "</style><div id=\"sk-container-id-1\" class=\"sk-top-container\"><div class=\"sk-text-repr-fallback\"><pre>RandomizedSearchCV(cv=2,\n",
       "                   estimator=BaggingClassifier(estimator=DecisionTreeClassifier()),\n",
       "                   param_distributions={&#x27;bootstrap&#x27;: [True, False],\n",
       "                                        &#x27;bootstrap_features&#x27;: [True, False],\n",
       "                                        &#x27;max_features&#x27;: [0.5, 0.7, 1.0],\n",
       "                                        &#x27;max_samples&#x27;: [0.5, 0.7, 1.0],\n",
       "                                        &#x27;n_estimators&#x27;: [10, 50, 100]},\n",
       "                   random_state=42, scoring=&#x27;accuracy&#x27;)</pre><b>In a Jupyter environment, please rerun this cell to show the HTML representation or trust the notebook. <br />On GitHub, the HTML representation is unable to render, please try loading this page with nbviewer.org.</b></div><div class=\"sk-container\" hidden><div class=\"sk-item sk-dashed-wrapped\"><div class=\"sk-label-container\"><div class=\"sk-label fitted sk-toggleable\"><input class=\"sk-toggleable__control sk-hidden--visually\" id=\"sk-estimator-id-1\" type=\"checkbox\" ><label for=\"sk-estimator-id-1\" class=\"sk-toggleable__label fitted sk-toggleable__label-arrow fitted\">&nbsp;&nbsp;RandomizedSearchCV<a class=\"sk-estimator-doc-link fitted\" rel=\"noreferrer\" target=\"_blank\" href=\"https://scikit-learn.org/1.5/modules/generated/sklearn.model_selection.RandomizedSearchCV.html\">?<span>Documentation for RandomizedSearchCV</span></a><span class=\"sk-estimator-doc-link fitted\">i<span>Fitted</span></span></label><div class=\"sk-toggleable__content fitted\"><pre>RandomizedSearchCV(cv=2,\n",
       "                   estimator=BaggingClassifier(estimator=DecisionTreeClassifier()),\n",
       "                   param_distributions={&#x27;bootstrap&#x27;: [True, False],\n",
       "                                        &#x27;bootstrap_features&#x27;: [True, False],\n",
       "                                        &#x27;max_features&#x27;: [0.5, 0.7, 1.0],\n",
       "                                        &#x27;max_samples&#x27;: [0.5, 0.7, 1.0],\n",
       "                                        &#x27;n_estimators&#x27;: [10, 50, 100]},\n",
       "                   random_state=42, scoring=&#x27;accuracy&#x27;)</pre></div> </div></div><div class=\"sk-parallel\"><div class=\"sk-parallel-item\"><div class=\"sk-item\"><div class=\"sk-label-container\"><div class=\"sk-label fitted sk-toggleable\"><input class=\"sk-toggleable__control sk-hidden--visually\" id=\"sk-estimator-id-2\" type=\"checkbox\" ><label for=\"sk-estimator-id-2\" class=\"sk-toggleable__label fitted sk-toggleable__label-arrow fitted\">best_estimator_: BaggingClassifier</label><div class=\"sk-toggleable__content fitted\"><pre>BaggingClassifier(bootstrap=False, bootstrap_features=True,\n",
       "                  estimator=DecisionTreeClassifier(), max_samples=0.7,\n",
       "                  n_estimators=100)</pre></div> </div></div><div class=\"sk-serial\"><div class=\"sk-item sk-dashed-wrapped\"><div class=\"sk-parallel\"><div class=\"sk-parallel-item\"><div class=\"sk-item\"><div class=\"sk-label-container\"><div class=\"sk-label fitted sk-toggleable\"><input class=\"sk-toggleable__control sk-hidden--visually\" id=\"sk-estimator-id-3\" type=\"checkbox\" ><label for=\"sk-estimator-id-3\" class=\"sk-toggleable__label fitted sk-toggleable__label-arrow fitted\">estimator: DecisionTreeClassifier</label><div class=\"sk-toggleable__content fitted\"><pre>DecisionTreeClassifier()</pre></div> </div></div><div class=\"sk-serial\"><div class=\"sk-item\"><div class=\"sk-estimator fitted sk-toggleable\"><input class=\"sk-toggleable__control sk-hidden--visually\" id=\"sk-estimator-id-4\" type=\"checkbox\" ><label for=\"sk-estimator-id-4\" class=\"sk-toggleable__label fitted sk-toggleable__label-arrow fitted\">&nbsp;DecisionTreeClassifier<a class=\"sk-estimator-doc-link fitted\" rel=\"noreferrer\" target=\"_blank\" href=\"https://scikit-learn.org/1.5/modules/generated/sklearn.tree.DecisionTreeClassifier.html\">?<span>Documentation for DecisionTreeClassifier</span></a></label><div class=\"sk-toggleable__content fitted\"><pre>DecisionTreeClassifier()</pre></div> </div></div></div></div></div></div></div></div></div></div></div></div></div></div>"
      ],
      "text/plain": [
       "RandomizedSearchCV(cv=2,\n",
       "                   estimator=BaggingClassifier(estimator=DecisionTreeClassifier()),\n",
       "                   param_distributions={'bootstrap': [True, False],\n",
       "                                        'bootstrap_features': [True, False],\n",
       "                                        'max_features': [0.5, 0.7, 1.0],\n",
       "                                        'max_samples': [0.5, 0.7, 1.0],\n",
       "                                        'n_estimators': [10, 50, 100]},\n",
       "                   random_state=42, scoring='accuracy')"
      ]
     },
     "execution_count": 53,
     "metadata": {},
     "output_type": "execute_result"
    }
   ],
   "source": [
    "y_train = y_train.values.ravel()\n",
    "\n",
    "random_search.fit(X_train,y_train)"
   ]
  },
  {
   "cell_type": "code",
   "execution_count": 54,
   "id": "626b0cfd-a6a5-484d-be86-7ee18f213238",
   "metadata": {},
   "outputs": [
    {
     "name": "stdout",
     "output_type": "stream",
     "text": [
      "Best Parameters: {'n_estimators': 100, 'max_samples': 0.7, 'max_features': 1.0, 'bootstrap_features': True, 'bootstrap': False}\n",
      "Best Score: 0.651050614510374\n"
     ]
    }
   ],
   "source": [
    "print(\"Best Parameters:\",random_search.best_params_)\n",
    "print(\"Best Score:\",random_search.best_score_)"
   ]
  },
  {
   "cell_type": "code",
   "execution_count": 55,
   "id": "ef9e5fe6-f088-41d9-9790-a6f402feee0d",
   "metadata": {},
   "outputs": [
    {
     "name": "stdout",
     "output_type": "stream",
     "text": [
      "Best Score: 0.6873320558565702\n"
     ]
    }
   ],
   "source": [
    "print(\"Best Score:\",random_search.score(X_test,y_test))"
   ]
  },
  {
   "cell_type": "code",
   "execution_count": 56,
   "id": "63b0d9c5-6a05-41e5-97d0-8d27469c252f",
   "metadata": {},
   "outputs": [],
   "source": [
    "bc_final=random_search"
   ]
  },
  {
   "cell_type": "code",
   "execution_count": 57,
   "id": "6f65da16-6059-49d4-81fa-519e22e1585a",
   "metadata": {},
   "outputs": [
    {
     "name": "stdout",
     "output_type": "stream",
     "text": [
      "              precision    recall  f1-score   support\n",
      "\n",
      "           0     0.5478    0.6358    0.5885     60466\n",
      "           1     0.6030    0.4762    0.5321     60427\n",
      "           2     0.6658    0.6985    0.6818     60715\n",
      "\n",
      "    accuracy                         0.6037    181608\n",
      "   macro avg     0.6055    0.6035    0.6008    181608\n",
      "weighted avg     0.6056    0.6037    0.6009    181608\n",
      "\n"
     ]
    }
   ],
   "source": [
    "print(classification_report(y_test,y_pred,digits=4))"
   ]
  },
  {
   "cell_type": "code",
   "execution_count": 58,
   "id": "33e451a1-2d88-40cf-99f3-d97e27f3892d",
   "metadata": {},
   "outputs": [
    {
     "name": "stdout",
     "output_type": "stream",
     "text": [
      "0.6036573278710189\n"
     ]
    },
    {
     "data": {
      "text/plain": [
       "<Axes: >"
      ]
     },
     "execution_count": 58,
     "metadata": {},
     "output_type": "execute_result"
    },
    {
     "data": {
      "image/png": "[encoded data removed]",
      "text/plain": [
       "<Figure size 700x500 with 2 Axes>"
      ]
     },
     "metadata": {},
     "output_type": "display_data"
    }
   ],
   "source": [
    "\n",
    "\n",
    "\n",
    "from sklearn.metrics import classification_report, confusion_matrix \n",
    "\n",
    "y_pres=dt_final.predict(X_test)\n",
    "print(dt_final.score(X_test, y_test))\n",
    "cm = confusion_matrix(y_test, y_pred, labels=[0, 1, 2])\n",
    "df_cm = pd.DataFrame(cm, index=[i for i in [\"home\", \"unknown\", \"work\"]],\n",
    "                   columns=[i for i in [\"home\", \"unknown\", \"work\"]])\n",
    "plt.figure(figsize=(7, 5))\n",
    "sns.heatmap(df_cm,annot=True,fmt='g',cmap=sns.cubehelix_palette(as_cmap=True))"
   ]
  },
  {
   "cell_type": "code",
   "execution_count": 59,
   "id": "852605a0-056b-4fef-9f1d-520197c4289b",
   "metadata": {},
   "outputs": [],
   "source": [
    "from sklearn.ensemble import RandomForestClassifier\n",
    "rf_final=RandomForestClassifier()"
   ]
  },
  {
   "cell_type": "code",
   "execution_count": 60,
   "id": "837a7e3d-fa42-4c95-9e2e-23c7303006e4",
   "metadata": {},
   "outputs": [
    {
     "data": {
      "text/html": [
       "<style>#sk-container-id-2 {\n",
       "  /* Definition of color scheme common for light and dark mode */\n",
       "  --sklearn-color-text: black;\n",
       "  --sklearn-color-line: gray;\n",
       "  /* Definition of color scheme for unfitted estimators */\n",
       "  --sklearn-color-unfitted-level-0: #fff5e6;\n",
       "  --sklearn-color-unfitted-level-1: #f6e4d2;\n",
       "  --sklearn-color-unfitted-level-2: #ffe0b3;\n",
       "  --sklearn-color-unfitted-level-3: chocolate;\n",
       "  /* Definition of color scheme for fitted estimators */\n",
       "  --sklearn-color-fitted-level-0: #f0f8ff;\n",
       "  --sklearn-color-fitted-level-1: #d4ebff;\n",
       "  --sklearn-color-fitted-level-2: #b3dbfd;\n",
       "  --sklearn-color-fitted-level-3: cornflowerblue;\n",
       "\n",
       "  /* Specific color for light theme */\n",
       "  --sklearn-color-text-on-default-background: var(--sg-text-color, var(--theme-code-foreground, var(--jp-content-font-color1, black)));\n",
       "  --sklearn-color-background: var(--sg-background-color, var(--theme-background, var(--jp-layout-color0, white)));\n",
       "  --sklearn-color-border-box: var(--sg-text-color, var(--theme-code-foreground, var(--jp-content-font-color1, black)));\n",
       "  --sklearn-color-icon: #696969;\n",
       "\n",
       "  @media (prefers-color-scheme: dark) {\n",
       "    /* Redefinition of color scheme for dark theme */\n",
       "    --sklearn-color-text-on-default-background: var(--sg-text-color, var(--theme-code-foreground, var(--jp-content-font-color1, white)));\n",
       "    --sklearn-color-background: var(--sg-background-color, var(--theme-background, var(--jp-layout-color0, #111)));\n",
       "    --sklearn-color-border-box: var(--sg-text-color, var(--theme-code-foreground, var(--jp-content-font-color1, white)));\n",
       "    --sklearn-color-icon: #878787;\n",
       "  }\n",
       "}\n",
       "\n",
       "#sk-container-id-2 {\n",
       "  color: var(--sklearn-color-text);\n",
       "}\n",
       "\n",
       "#sk-container-id-2 pre {\n",
       "  padding: 0;\n",
       "}\n",
       "\n",
       "#sk-container-id-2 input.sk-hidden--visually {\n",
       "  border: 0;\n",
       "  clip: rect(1px 1px 1px 1px);\n",
       "  clip: rect(1px, 1px, 1px, 1px);\n",
       "  height: 1px;\n",
       "  margin: -1px;\n",
       "  overflow: hidden;\n",
       "  padding: 0;\n",
       "  position: absolute;\n",
       "  width: 1px;\n",
       "}\n",
       "\n",
       "#sk-container-id-2 div.sk-dashed-wrapped {\n",
       "  border: 1px dashed var(--sklearn-color-line);\n",
       "  margin: 0 0.4em 0.5em 0.4em;\n",
       "  box-sizing: border-box;\n",
       "  padding-bottom: 0.4em;\n",
       "  background-color: var(--sklearn-color-background);\n",
       "}\n",
       "\n",
       "#sk-container-id-2 div.sk-container {\n",
       "  /* jupyter's `normalize.less` sets `[hidden] { display: none; }`\n",
       "     but bootstrap.min.css set `[hidden] { display: none !important; }`\n",
       "     so we also need the `!important` here to be able to override the\n",
       "     default hidden behavior on the sphinx rendered scikit-learn.org.\n",
       "     See: https://github.com/scikit-learn/scikit-learn/issues/21755 */\n",
       "  display: inline-block !important;\n",
       "  position: relative;\n",
       "}\n",
       "\n",
       "#sk-container-id-2 div.sk-text-repr-fallback {\n",
       "  display: none;\n",
       "}\n",
       "\n",
       "div.sk-parallel-item,\n",
       "div.sk-serial,\n",
       "div.sk-item {\n",
       "  /* draw centered vertical line to link estimators */\n",
       "  background-image: linear-gradient(var(--sklearn-color-text-on-default-background), var(--sklearn-color-text-on-default-background));\n",
       "  background-size: 2px 100%;\n",
       "  background-repeat: no-repeat;\n",
       "  background-position: center center;\n",
       "}\n",
       "\n",
       "/* Parallel-specific style estimator block */\n",
       "\n",
       "#sk-container-id-2 div.sk-parallel-item::after {\n",
       "  content: \"\";\n",
       "  width: 100%;\n",
       "  border-bottom: 2px solid var(--sklearn-color-text-on-default-background);\n",
       "  flex-grow: 1;\n",
       "}\n",
       "\n",
       "#sk-container-id-2 div.sk-parallel {\n",
       "  display: flex;\n",
       "  align-items: stretch;\n",
       "  justify-content: center;\n",
       "  background-color: var(--sklearn-color-background);\n",
       "  position: relative;\n",
       "}\n",
       "\n",
       "#sk-container-id-2 div.sk-parallel-item {\n",
       "  display: flex;\n",
       "  flex-direction: column;\n",
       "}\n",
       "\n",
       "#sk-container-id-2 div.sk-parallel-item:first-child::after {\n",
       "  align-self: flex-end;\n",
       "  width: 50%;\n",
       "}\n",
       "\n",
       "#sk-container-id-2 div.sk-parallel-item:last-child::after {\n",
       "  align-self: flex-start;\n",
       "  width: 50%;\n",
       "}\n",
       "\n",
       "#sk-container-id-2 div.sk-parallel-item:only-child::after {\n",
       "  width: 0;\n",
       "}\n",
       "\n",
       "/* Serial-specific style estimator block */\n",
       "\n",
       "#sk-container-id-2 div.sk-serial {\n",
       "  display: flex;\n",
       "  flex-direction: column;\n",
       "  align-items: center;\n",
       "  background-color: var(--sklearn-color-background);\n",
       "  padding-right: 1em;\n",
       "  padding-left: 1em;\n",
       "}\n",
       "\n",
       "\n",
       "/* Toggleable style: style used for estimator/Pipeline/ColumnTransformer box that is\n",
       "clickable and can be expanded/collapsed.\n",
       "- Pipeline and ColumnTransformer use this feature and define the default style\n",
       "- Estimators will overwrite some part of the style using the `sk-estimator` class\n",
       "*/\n",
       "\n",
       "/* Pipeline and ColumnTransformer style (default) */\n",
       "\n",
       "#sk-container-id-2 div.sk-toggleable {\n",
       "  /* Default theme specific background. It is overwritten whether we have a\n",
       "  specific estimator or a Pipeline/ColumnTransformer */\n",
       "  background-color: var(--sklearn-color-background);\n",
       "}\n",
       "\n",
       "/* Toggleable label */\n",
       "#sk-container-id-2 label.sk-toggleable__label {\n",
       "  cursor: pointer;\n",
       "  display: block;\n",
       "  width: 100%;\n",
       "  margin-bottom: 0;\n",
       "  padding: 0.5em;\n",
       "  box-sizing: border-box;\n",
       "  text-align: center;\n",
       "}\n",
       "\n",
       "#sk-container-id-2 label.sk-toggleable__label-arrow:before {\n",
       "  /* Arrow on the left of the label */\n",
       "  content: \"▸\";\n",
       "  float: left;\n",
       "  margin-right: 0.25em;\n",
       "  color: var(--sklearn-color-icon);\n",
       "}\n",
       "\n",
       "#sk-container-id-2 label.sk-toggleable__label-arrow:hover:before {\n",
       "  color: var(--sklearn-color-text);\n",
       "}\n",
       "\n",
       "/* Toggleable content - dropdown */\n",
       "\n",
       "#sk-container-id-2 div.sk-toggleable__content {\n",
       "  max-height: 0;\n",
       "  max-width: 0;\n",
       "  overflow: hidden;\n",
       "  text-align: left;\n",
       "  /* unfitted */\n",
       "  background-color: var(--sklearn-color-unfitted-level-0);\n",
       "}\n",
       "\n",
       "#sk-container-id-2 div.sk-toggleable__content.fitted {\n",
       "  /* fitted */\n",
       "  background-color: var(--sklearn-color-fitted-level-0);\n",
       "}\n",
       "\n",
       "#sk-container-id-2 div.sk-toggleable__content pre {\n",
       "  margin: 0.2em;\n",
       "  border-radius: 0.25em;\n",
       "  color: var(--sklearn-color-text);\n",
       "  /* unfitted */\n",
       "  background-color: var(--sklearn-color-unfitted-level-0);\n",
       "}\n",
       "\n",
       "#sk-container-id-2 div.sk-toggleable__content.fitted pre {\n",
       "  /* unfitted */\n",
       "  background-color: var(--sklearn-color-fitted-level-0);\n",
       "}\n",
       "\n",
       "#sk-container-id-2 input.sk-toggleable__control:checked~div.sk-toggleable__content {\n",
       "  /* Expand drop-down */\n",
       "  max-height: 200px;\n",
       "  max-width: 100%;\n",
       "  overflow: auto;\n",
       "}\n",
       "\n",
       "#sk-container-id-2 input.sk-toggleable__control:checked~label.sk-toggleable__label-arrow:before {\n",
       "  content: \"▾\";\n",
       "}\n",
       "\n",
       "/* Pipeline/ColumnTransformer-specific style */\n",
       "\n",
       "#sk-container-id-2 div.sk-label input.sk-toggleable__control:checked~label.sk-toggleable__label {\n",
       "  color: var(--sklearn-color-text);\n",
       "  background-color: var(--sklearn-color-unfitted-level-2);\n",
       "}\n",
       "\n",
       "#sk-container-id-2 div.sk-label.fitted input.sk-toggleable__control:checked~label.sk-toggleable__label {\n",
       "  background-color: var(--sklearn-color-fitted-level-2);\n",
       "}\n",
       "\n",
       "/* Estimator-specific style */\n",
       "\n",
       "/* Colorize estimator box */\n",
       "#sk-container-id-2 div.sk-estimator input.sk-toggleable__control:checked~label.sk-toggleable__label {\n",
       "  /* unfitted */\n",
       "  background-color: var(--sklearn-color-unfitted-level-2);\n",
       "}\n",
       "\n",
       "#sk-container-id-2 div.sk-estimator.fitted input.sk-toggleable__control:checked~label.sk-toggleable__label {\n",
       "  /* fitted */\n",
       "  background-color: var(--sklearn-color-fitted-level-2);\n",
       "}\n",
       "\n",
       "#sk-container-id-2 div.sk-label label.sk-toggleable__label,\n",
       "#sk-container-id-2 div.sk-label label {\n",
       "  /* The background is the default theme color */\n",
       "  color: var(--sklearn-color-text-on-default-background);\n",
       "}\n",
       "\n",
       "/* On hover, darken the color of the background */\n",
       "#sk-container-id-2 div.sk-label:hover label.sk-toggleable__label {\n",
       "  color: var(--sklearn-color-text);\n",
       "  background-color: var(--sklearn-color-unfitted-level-2);\n",
       "}\n",
       "\n",
       "/* Label box, darken color on hover, fitted */\n",
       "#sk-container-id-2 div.sk-label.fitted:hover label.sk-toggleable__label.fitted {\n",
       "  color: var(--sklearn-color-text);\n",
       "  background-color: var(--sklearn-color-fitted-level-2);\n",
       "}\n",
       "\n",
       "/* Estimator label */\n",
       "\n",
       "#sk-container-id-2 div.sk-label label {\n",
       "  font-family: monospace;\n",
       "  font-weight: bold;\n",
       "  display: inline-block;\n",
       "  line-height: 1.2em;\n",
       "}\n",
       "\n",
       "#sk-container-id-2 div.sk-label-container {\n",
       "  text-align: center;\n",
       "}\n",
       "\n",
       "/* Estimator-specific */\n",
       "#sk-container-id-2 div.sk-estimator {\n",
       "  font-family: monospace;\n",
       "  border: 1px dotted var(--sklearn-color-border-box);\n",
       "  border-radius: 0.25em;\n",
       "  box-sizing: border-box;\n",
       "  margin-bottom: 0.5em;\n",
       "  /* unfitted */\n",
       "  background-color: var(--sklearn-color-unfitted-level-0);\n",
       "}\n",
       "\n",
       "#sk-container-id-2 div.sk-estimator.fitted {\n",
       "  /* fitted */\n",
       "  background-color: var(--sklearn-color-fitted-level-0);\n",
       "}\n",
       "\n",
       "/* on hover */\n",
       "#sk-container-id-2 div.sk-estimator:hover {\n",
       "  /* unfitted */\n",
       "  background-color: var(--sklearn-color-unfitted-level-2);\n",
       "}\n",
       "\n",
       "#sk-container-id-2 div.sk-estimator.fitted:hover {\n",
       "  /* fitted */\n",
       "  background-color: var(--sklearn-color-fitted-level-2);\n",
       "}\n",
       "\n",
       "/* Specification for estimator info (e.g. \"i\" and \"?\") */\n",
       "\n",
       "/* Common style for \"i\" and \"?\" */\n",
       "\n",
       ".sk-estimator-doc-link,\n",
       "a:link.sk-estimator-doc-link,\n",
       "a:visited.sk-estimator-doc-link {\n",
       "  float: right;\n",
       "  font-size: smaller;\n",
       "  line-height: 1em;\n",
       "  font-family: monospace;\n",
       "  background-color: var(--sklearn-color-background);\n",
       "  border-radius: 1em;\n",
       "  height: 1em;\n",
       "  width: 1em;\n",
       "  text-decoration: none !important;\n",
       "  margin-left: 1ex;\n",
       "  /* unfitted */\n",
       "  border: var(--sklearn-color-unfitted-level-1) 1pt solid;\n",
       "  color: var(--sklearn-color-unfitted-level-1);\n",
       "}\n",
       "\n",
       ".sk-estimator-doc-link.fitted,\n",
       "a:link.sk-estimator-doc-link.fitted,\n",
       "a:visited.sk-estimator-doc-link.fitted {\n",
       "  /* fitted */\n",
       "  border: var(--sklearn-color-fitted-level-1) 1pt solid;\n",
       "  color: var(--sklearn-color-fitted-level-1);\n",
       "}\n",
       "\n",
       "/* On hover */\n",
       "div.sk-estimator:hover .sk-estimator-doc-link:hover,\n",
       ".sk-estimator-doc-link:hover,\n",
       "div.sk-label-container:hover .sk-estimator-doc-link:hover,\n",
       ".sk-estimator-doc-link:hover {\n",
       "  /* unfitted */\n",
       "  background-color: var(--sklearn-color-unfitted-level-3);\n",
       "  color: var(--sklearn-color-background);\n",
       "  text-decoration: none;\n",
       "}\n",
       "\n",
       "div.sk-estimator.fitted:hover .sk-estimator-doc-link.fitted:hover,\n",
       ".sk-estimator-doc-link.fitted:hover,\n",
       "div.sk-label-container:hover .sk-estimator-doc-link.fitted:hover,\n",
       ".sk-estimator-doc-link.fitted:hover {\n",
       "  /* fitted */\n",
       "  background-color: var(--sklearn-color-fitted-level-3);\n",
       "  color: var(--sklearn-color-background);\n",
       "  text-decoration: none;\n",
       "}\n",
       "\n",
       "/* Span, style for the box shown on hovering the info icon */\n",
       ".sk-estimator-doc-link span {\n",
       "  display: none;\n",
       "  z-index: 9999;\n",
       "  position: relative;\n",
       "  font-weight: normal;\n",
       "  right: .2ex;\n",
       "  padding: .5ex;\n",
       "  margin: .5ex;\n",
       "  width: min-content;\n",
       "  min-width: 20ex;\n",
       "  max-width: 50ex;\n",
       "  color: var(--sklearn-color-text);\n",
       "  box-shadow: 2pt 2pt 4pt #999;\n",
       "  /* unfitted */\n",
       "  background: var(--sklearn-color-unfitted-level-0);\n",
       "  border: .5pt solid var(--sklearn-color-unfitted-level-3);\n",
       "}\n",
       "\n",
       ".sk-estimator-doc-link.fitted span {\n",
       "  /* fitted */\n",
       "  background: var(--sklearn-color-fitted-level-0);\n",
       "  border: var(--sklearn-color-fitted-level-3);\n",
       "}\n",
       "\n",
       ".sk-estimator-doc-link:hover span {\n",
       "  display: block;\n",
       "}\n",
       "\n",
       "/* \"?\"-specific style due to the `<a>` HTML tag */\n",
       "\n",
       "#sk-container-id-2 a.estimator_doc_link {\n",
       "  float: right;\n",
       "  font-size: 1rem;\n",
       "  line-height: 1em;\n",
       "  font-family: monospace;\n",
       "  background-color: var(--sklearn-color-background);\n",
       "  border-radius: 1rem;\n",
       "  height: 1rem;\n",
       "  width: 1rem;\n",
       "  text-decoration: none;\n",
       "  /* unfitted */\n",
       "  color: var(--sklearn-color-unfitted-level-1);\n",
       "  border: var(--sklearn-color-unfitted-level-1) 1pt solid;\n",
       "}\n",
       "\n",
       "#sk-container-id-2 a.estimator_doc_link.fitted {\n",
       "  /* fitted */\n",
       "  border: var(--sklearn-color-fitted-level-1) 1pt solid;\n",
       "  color: var(--sklearn-color-fitted-level-1);\n",
       "}\n",
       "\n",
       "/* On hover */\n",
       "#sk-container-id-2 a.estimator_doc_link:hover {\n",
       "  /* unfitted */\n",
       "  background-color: var(--sklearn-color-unfitted-level-3);\n",
       "  color: var(--sklearn-color-background);\n",
       "  text-decoration: none;\n",
       "}\n",
       "\n",
       "#sk-container-id-2 a.estimator_doc_link.fitted:hover {\n",
       "  /* fitted */\n",
       "  background-color: var(--sklearn-color-fitted-level-3);\n",
       "}\n",
       "</style><div id=\"sk-container-id-2\" class=\"sk-top-container\"><div class=\"sk-text-repr-fallback\"><pre>RandomForestClassifier()</pre><b>In a Jupyter environment, please rerun this cell to show the HTML representation or trust the notebook. <br />On GitHub, the HTML representation is unable to render, please try loading this page with nbviewer.org.</b></div><div class=\"sk-container\" hidden><div class=\"sk-item\"><div class=\"sk-estimator fitted sk-toggleable\"><input class=\"sk-toggleable__control sk-hidden--visually\" id=\"sk-estimator-id-5\" type=\"checkbox\" checked><label for=\"sk-estimator-id-5\" class=\"sk-toggleable__label fitted sk-toggleable__label-arrow fitted\">&nbsp;&nbsp;RandomForestClassifier<a class=\"sk-estimator-doc-link fitted\" rel=\"noreferrer\" target=\"_blank\" href=\"https://scikit-learn.org/1.5/modules/generated/sklearn.ensemble.RandomForestClassifier.html\">?<span>Documentation for RandomForestClassifier</span></a><span class=\"sk-estimator-doc-link fitted\">i<span>Fitted</span></span></label><div class=\"sk-toggleable__content fitted\"><pre>RandomForestClassifier()</pre></div> </div></div></div></div>"
      ],
      "text/plain": [
       "RandomForestClassifier()"
      ]
     },
     "execution_count": 60,
     "metadata": {},
     "output_type": "execute_result"
    }
   ],
   "source": [
    "rf_final.fit(X_train,y_train)"
   ]
  },
  {
   "cell_type": "code",
   "execution_count": 61,
   "id": "e54308e1-4c4a-4bba-89eb-4b23b11af8ef",
   "metadata": {},
   "outputs": [
    {
     "name": "stdout",
     "output_type": "stream",
     "text": [
      "Best Score: 0.6396524382185806\n"
     ]
    }
   ],
   "source": [
    "print(\"Best Score:\",rf_final.score(X_test,y_test))"
   ]
  },
  {
   "cell_type": "code",
   "execution_count": 62,
   "id": "83910633-801b-46e3-98d9-3a790833995e",
   "metadata": {},
   "outputs": [
    {
     "name": "stdout",
     "output_type": "stream",
     "text": [
      "              precision    recall  f1-score   support\n",
      "\n",
      "           0     0.5478    0.6358    0.5885     60466\n",
      "           1     0.6030    0.4762    0.5321     60427\n",
      "           2     0.6658    0.6985    0.6818     60715\n",
      "\n",
      "    accuracy                         0.6037    181608\n",
      "   macro avg     0.6055    0.6035    0.6008    181608\n",
      "weighted avg     0.6056    0.6037    0.6009    181608\n",
      "\n"
     ]
    }
   ],
   "source": [
    "print(classification_report(y_test,y_pred,digits=4))"
   ]
  },
  {
   "cell_type": "code",
   "execution_count": 63,
   "id": "3ef40782-d554-4617-81e7-d2774329440a",
   "metadata": {},
   "outputs": [
    {
     "name": "stdout",
     "output_type": "stream",
     "text": [
      "0.6396524382185806\n"
     ]
    },
    {
     "data": {
      "text/plain": [
       "<Axes: >"
      ]
     },
     "execution_count": 63,
     "metadata": {},
     "output_type": "execute_result"
    },
    {
     "data": {
      "image/png": "[encoded data removed]",
      "text/plain": [
       "<Figure size 700x500 with 2 Axes>"
      ]
     },
     "metadata": {},
     "output_type": "display_data"
    }
   ],
   "source": [
    "from sklearn.metrics import classification_report, confusion_matrix \n",
    "\n",
    "y_pred=rf_final.predict(X_test) \n",
    "print(rf_final.score(X_test,y_test))\n",
    "cm=confusion_matrix(y_test,y_pred, labels=[0,1,2])\n",
    "df_cm = pd.DataFrame(cm, index = [i for i in [\"Home\", \"Unknown\", \"work\"]],\n",
    "                     columns = [i for i in [\"Home\", \"Unknown\", \"Work\"]])\n",
    "plt.figure(figsize = (7,5)) \n",
    "sns.heatmap(df_cm, annot=True,fmt='g',cmap=sns.cubehelix_palette(as_cmap=True))\n"
   ]
  },
  {
   "cell_type": "code",
   "execution_count": 64,
   "id": "6da08b2c-568d-4677-8e85-5f9ab30d6b58",
   "metadata": {},
   "outputs": [
    {
     "data": {
      "image/png": "[encoded data removed]",
      "text/plain": [
       "<Figure size 640x480 with 1 Axes>"
      ]
     },
     "metadata": {},
     "output_type": "display_data"
    }
   ],
   "source": [
    "\n",
    "train_score={'Decision Tree':dt_final.score(X_train,y_train),'Random Forest Calssifier':rf_final.score(X_train,y_train),'Bagging Classifier':bc_final.best_score_}\n",
    "models=list(train_score.keys())\n",
    "scores=list(train_score.values())\n",
    "plt.bar(models,scores,width=0.4)\n",
    "plt.xlabel(\"Models\")\n",
    "plt.ylabel(\"Scores of Models\")\n",
    "plt.xticks(rotation=45)\n",
    "plt.title(\"comparitive performance of Models\")\n",
    "plt.show()"
   ]
  },
  {
   "cell_type": "code",
   "execution_count": 65,
   "id": "92aae311-9283-4520-a77f-6db9a51141c8",
   "metadata": {},
   "outputs": [
    {
     "data": {
      "image/png": "[encoded data removed]",
      "text/plain": [
       "<Figure size 640x480 with 1 Axes>"
      ]
     },
     "metadata": {},
     "output_type": "display_data"
    }
   ],
   "source": [
    "\n",
    "test_score={'Decision Tree':dt_final.score(X_test,y_test),'Random Forest Classifier':rf_final.score(X_test,y_test),'Bagging Classifier':bc_final.score(X_test, y_test)}\n",
    "models=list(test_score.keys())\n",
    "scores=list(test_score.values())\n",
    "\n",
    "plt.bar(models,scores,width=0.4)\n",
    "\n",
    "plt.xlabel(\"Models\")\n",
    "plt.ylabel(\"Scores of Models\")\n",
    "plt.xticks(rotation=45)\n",
    "plt.title(\"Comparitive Performance of Models\")\n",
    "plt.show()"
   ]
  },
  {
   "cell_type": "code",
   "execution_count": 66,
   "id": "5122f42e-a0aa-4a0a-b71d-f6e713a6dd17",
   "metadata": {},
   "outputs": [
    {
     "name": "stdout",
     "output_type": "stream",
     "text": [
      "{'Decision Tree': 0.7697238007136249, 'Random Forest Calssifier': 0.8147438438835294, 'Bagging Classifier': 0.651050614510374}\n",
      "{'Decision Tree': 0.6036573278710189, 'Random Forest Classifier': 0.6396524382185806, 'Bagging Classifier': 0.6873320558565702}\n"
     ]
    }
   ],
   "source": [
    "print(train_score)\n",
    "print(test_score)"
   ]
  },
  {
   "cell_type": "code",
   "execution_count": 67,
   "id": "fb0ea080-607e-4352-9513-4346e9c44354",
   "metadata": {},
   "outputs": [],
   "source": [
    "import pickle"
   ]
  },
  {
   "cell_type": "code",
   "execution_count": 68,
   "id": "fd32c3fd-6cde-4baa-9192-2afcb518e67e",
   "metadata": {},
   "outputs": [],
   "source": [
    "#saving the best model\n",
    "pickle.dump(bc_final,open(\"model.pkl\",\"wb\"))\n"
   ]
  },
  {
   "cell_type": "code",
   "execution_count": 69,
   "id": "4e093eb4-c607-43f2-94ea-cc20acc3b899",
   "metadata": {},
   "outputs": [],
   "source": [
    "pickle.dump(scaler,open(\"scaler.pkl\",\"wb\"))"
   ]
  },
  {
   "cell_type": "code",
   "execution_count": 70,
   "id": "b93f0d3e-c516-40dc-914d-57efea6f8fe4",
   "metadata": {},
   "outputs": [
    {
     "data": {
      "text/plain": [
       "['NameEncoder']"
      ]
     },
     "execution_count": 70,
     "metadata": {},
     "output_type": "execute_result"
    }
   ],
   "source": [
    "import joblib\n",
    "\n",
    "joblib.dump(dt_encoder, \"DayTimeEncoder\")\n",
    "joblib.dump(wd_encoder, \"WeekdayEncoder\")\n",
    "joblib.dump(wknd_encoder, \"wkndEncoder\")\n",
    "joblib.dump(hw_encoder, \"HWEncoder\")\n",
    "joblib.dump(w_encoder, \"WeatherEncoder\")\n",
    "joblib.dump(c_encoder, \"CostEncoder\")\n",
    "joblib.dump(n_encoder, \"NameEncoder\")"
   ]
  }
 ],
 "metadata": {
  "kernelspec": {
   "display_name": "Python 3 (ipykernel)",
   "language": "python",
   "name": "python3"
  },
  "language_info": {
   "codemirror_mode": {
    "name": "ipython",
    "version": 3
   },
   "file_extension": ".py",
   "mimetype": "text/x-python",
   "name": "python",
   "nbconvert_exporter": "python",
   "pygments_lexer": "ipython3",
   "version": "3.12.4"
  }
 },
 "nbformat": 4,
 "nbformat_minor": 5
}
